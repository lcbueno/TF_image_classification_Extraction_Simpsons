{
 "cells": [
  {
   "cell_type": "markdown",
   "id": "6109be6d",
   "metadata": {
    "id": "o1lN_5D2hPpr",
    "papermill": {
     "duration": 0.033526,
     "end_time": "2021-12-02T23:15:23.737227",
     "exception": false,
     "start_time": "2021-12-02T23:15:23.703701",
     "status": "completed"
    },
    "tags": []
   },
   "source": [
    "## Import from libraries"
   ]
  },
  {
   "cell_type": "code",
   "execution_count": 1,
   "id": "d11d0afa",
   "metadata": {
    "execution": {
     "iopub.execute_input": "2021-12-02T23:15:23.814045Z",
     "iopub.status.busy": "2021-12-02T23:15:23.813284Z",
     "iopub.status.idle": "2021-12-02T23:16:07.832436Z",
     "shell.execute_reply": "2021-12-02T23:16:07.830992Z",
     "shell.execute_reply.started": "2021-12-02T23:13:06.379222Z"
    },
    "id": "FMpnJNhAdo1s",
    "outputId": "f07dc966-4999-4f7b-fba7-9e70dc27ecdd",
    "papermill": {
     "duration": 44.062537,
     "end_time": "2021-12-02T23:16:07.832583",
     "exception": false,
     "start_time": "2021-12-02T23:15:23.770046",
     "status": "completed"
    },
    "tags": []
   },
   "outputs": [
    {
     "name": "stdout",
     "output_type": "stream",
     "text": [
      "Collecting google-colab\r\n",
      "  Downloading google-colab-1.0.0.tar.gz (72 kB)\r\n",
      "     |████████████████████████████████| 72 kB 575 kB/s            \r\n",
      "\u001b[?25h  Preparing metadata (setup.py) ... \u001b[?25l-\b \bdone\r\n",
      "\u001b[?25hCollecting google-auth~=1.4.0\r\n",
      "  Downloading google_auth-1.4.2-py2.py3-none-any.whl (64 kB)\r\n",
      "     |████████████████████████████████| 64 kB 1.6 MB/s            \r\n",
      "\u001b[?25hCollecting ipykernel~=4.6.0\r\n",
      "  Downloading ipykernel-4.6.1-py3-none-any.whl (104 kB)\r\n",
      "     |████████████████████████████████| 104 kB 5.1 MB/s            \r\n",
      "\u001b[?25hCollecting ipython~=5.5.0\r\n",
      "  Downloading ipython-5.5.0-py3-none-any.whl (758 kB)\r\n",
      "     |████████████████████████████████| 758 kB 7.8 MB/s            \r\n",
      "\u001b[?25hCollecting notebook~=5.2.0\r\n",
      "  Downloading notebook-5.2.2-py2.py3-none-any.whl (8.0 MB)\r\n",
      "     |████████████████████████████████| 8.0 MB 24.6 MB/s            \r\n",
      "\u001b[?25hCollecting six~=1.12.0\r\n",
      "  Downloading six-1.12.0-py2.py3-none-any.whl (10 kB)\r\n",
      "Collecting pandas~=0.24.0\r\n",
      "  Downloading pandas-0.24.2-cp37-cp37m-manylinux1_x86_64.whl (10.1 MB)\r\n",
      "     |████████████████████████████████| 10.1 MB 54.0 MB/s            \r\n",
      "\u001b[?25hCollecting portpicker~=1.2.0\r\n",
      "  Downloading portpicker-1.2.0.tar.gz (17 kB)\r\n",
      "  Preparing metadata (setup.py) ... \u001b[?25l-\b \bdone\r\n",
      "\u001b[?25hCollecting requests~=2.21.0\r\n",
      "  Downloading requests-2.21.0-py2.py3-none-any.whl (57 kB)\r\n",
      "     |████████████████████████████████| 57 kB 4.6 MB/s             \r\n",
      "\u001b[?25hCollecting tornado~=4.5.0\r\n",
      "  Downloading tornado-4.5.3.tar.gz (484 kB)\r\n",
      "     |████████████████████████████████| 484 kB 57.6 MB/s            \r\n",
      "\u001b[?25h  Preparing metadata (setup.py) ... \u001b[?25l-\b \bdone\r\n",
      "\u001b[?25hRequirement already satisfied: rsa>=3.1.4 in /opt/conda/lib/python3.7/site-packages (from google-auth~=1.4.0->google-colab) (4.7.2)\r\n",
      "Requirement already satisfied: cachetools>=2.0.0 in /opt/conda/lib/python3.7/site-packages (from google-auth~=1.4.0->google-colab) (4.2.4)\r\n",
      "Requirement already satisfied: pyasn1-modules>=0.2.1 in /opt/conda/lib/python3.7/site-packages (from google-auth~=1.4.0->google-colab) (0.2.7)\r\n",
      "Requirement already satisfied: jupyter-client in /opt/conda/lib/python3.7/site-packages (from ipykernel~=4.6.0->google-colab) (7.0.6)\r\n",
      "Requirement already satisfied: traitlets>=4.1.0 in /opt/conda/lib/python3.7/site-packages (from ipykernel~=4.6.0->google-colab) (5.1.1)\r\n",
      "Requirement already satisfied: decorator in /opt/conda/lib/python3.7/site-packages (from ipython~=5.5.0->google-colab) (5.1.0)\r\n",
      "Collecting prompt-toolkit<2.0.0,>=1.0.4\r\n",
      "  Downloading prompt_toolkit-1.0.18-py3-none-any.whl (245 kB)\r\n",
      "     |████████████████████████████████| 245 kB 52.4 MB/s            \r\n",
      "\u001b[?25hCollecting simplegeneric>0.8\r\n",
      "  Downloading simplegeneric-0.8.1.zip (12 kB)\r\n",
      "  Preparing metadata (setup.py) ... \u001b[?25l-\b \bdone\r\n",
      "\u001b[?25hRequirement already satisfied: pickleshare in /opt/conda/lib/python3.7/site-packages (from ipython~=5.5.0->google-colab) (0.7.5)\r\n",
      "Requirement already satisfied: pexpect in /opt/conda/lib/python3.7/site-packages (from ipython~=5.5.0->google-colab) (4.8.0)\r\n",
      "Requirement already satisfied: pygments in /opt/conda/lib/python3.7/site-packages (from ipython~=5.5.0->google-colab) (2.10.0)\r\n",
      "Requirement already satisfied: setuptools>=18.5 in /opt/conda/lib/python3.7/site-packages (from ipython~=5.5.0->google-colab) (59.1.1)\r\n",
      "Requirement already satisfied: jupyter-core in /opt/conda/lib/python3.7/site-packages (from notebook~=5.2.0->google-colab) (4.9.1)\r\n",
      "Requirement already satisfied: jinja2 in /opt/conda/lib/python3.7/site-packages (from notebook~=5.2.0->google-colab) (3.0.3)\r\n",
      "Requirement already satisfied: terminado>=0.3.3 in /opt/conda/lib/python3.7/site-packages (from notebook~=5.2.0->google-colab) (0.12.1)\r\n",
      "Requirement already satisfied: nbformat in /opt/conda/lib/python3.7/site-packages (from notebook~=5.2.0->google-colab) (5.1.3)\r\n",
      "Requirement already satisfied: ipython-genutils in /opt/conda/lib/python3.7/site-packages (from notebook~=5.2.0->google-colab) (0.2.0)\r\n",
      "Requirement already satisfied: nbconvert in /opt/conda/lib/python3.7/site-packages (from notebook~=5.2.0->google-colab) (6.3.0)\r\n",
      "Requirement already satisfied: numpy>=1.12.0 in /opt/conda/lib/python3.7/site-packages (from pandas~=0.24.0->google-colab) (1.19.5)\r\n",
      "Requirement already satisfied: pytz>=2011k in /opt/conda/lib/python3.7/site-packages (from pandas~=0.24.0->google-colab) (2021.3)\r\n",
      "Requirement already satisfied: python-dateutil>=2.5.0 in /opt/conda/lib/python3.7/site-packages (from pandas~=0.24.0->google-colab) (2.8.0)\r\n",
      "Collecting idna<2.9,>=2.5\r\n",
      "  Downloading idna-2.8-py2.py3-none-any.whl (58 kB)\r\n",
      "     |████████████████████████████████| 58 kB 5.0 MB/s             \r\n",
      "\u001b[?25hRequirement already satisfied: certifi>=2017.4.17 in /opt/conda/lib/python3.7/site-packages (from requests~=2.21.0->google-colab) (2021.10.8)\r\n",
      "Collecting urllib3<1.25,>=1.21.1\r\n",
      "  Downloading urllib3-1.24.3-py2.py3-none-any.whl (118 kB)\r\n",
      "     |████████████████████████████████| 118 kB 58.6 MB/s            \r\n",
      "\u001b[?25hCollecting chardet<3.1.0,>=3.0.2\r\n",
      "  Downloading chardet-3.0.4-py2.py3-none-any.whl (133 kB)\r\n",
      "     |████████████████████████████████| 133 kB 66.5 MB/s            \r\n",
      "\u001b[?25hRequirement already satisfied: wcwidth in /opt/conda/lib/python3.7/site-packages (from prompt-toolkit<2.0.0,>=1.0.4->ipython~=5.5.0->google-colab) (0.2.5)\r\n",
      "Requirement already satisfied: pyasn1<0.5.0,>=0.4.6 in /opt/conda/lib/python3.7/site-packages (from pyasn1-modules>=0.2.1->google-auth~=1.4.0->google-colab) (0.4.8)\r\n",
      "Requirement already satisfied: ptyprocess in /opt/conda/lib/python3.7/site-packages (from terminado>=0.3.3->notebook~=5.2.0->google-colab) (0.7.0)\r\n",
      "Requirement already satisfied: MarkupSafe>=2.0 in /opt/conda/lib/python3.7/site-packages (from jinja2->notebook~=5.2.0->google-colab) (2.0.1)\r\n",
      "Requirement already satisfied: entrypoints in /opt/conda/lib/python3.7/site-packages (from jupyter-client->ipykernel~=4.6.0->google-colab) (0.3)\r\n",
      "Requirement already satisfied: pyzmq>=13 in /opt/conda/lib/python3.7/site-packages (from jupyter-client->ipykernel~=4.6.0->google-colab) (22.3.0)\r\n",
      "Requirement already satisfied: nest-asyncio>=1.5 in /opt/conda/lib/python3.7/site-packages (from jupyter-client->ipykernel~=4.6.0->google-colab) (1.5.1)\r\n",
      "Requirement already satisfied: bleach in /opt/conda/lib/python3.7/site-packages (from nbconvert->notebook~=5.2.0->google-colab) (4.1.0)\r\n",
      "Requirement already satisfied: testpath in /opt/conda/lib/python3.7/site-packages (from nbconvert->notebook~=5.2.0->google-colab) (0.5.0)\r\n",
      "Requirement already satisfied: pandocfilters>=1.4.1 in /opt/conda/lib/python3.7/site-packages (from nbconvert->notebook~=5.2.0->google-colab) (1.5.0)\r\n",
      "Requirement already satisfied: nbclient<0.6.0,>=0.5.0 in /opt/conda/lib/python3.7/site-packages (from nbconvert->notebook~=5.2.0->google-colab) (0.5.8)\r\n",
      "Requirement already satisfied: defusedxml in /opt/conda/lib/python3.7/site-packages (from nbconvert->notebook~=5.2.0->google-colab) (0.7.1)\r\n",
      "Requirement already satisfied: jupyterlab-pygments in /opt/conda/lib/python3.7/site-packages (from nbconvert->notebook~=5.2.0->google-colab) (0.1.2)\r\n",
      "Requirement already satisfied: mistune<2,>=0.8.1 in /opt/conda/lib/python3.7/site-packages (from nbconvert->notebook~=5.2.0->google-colab) (0.8.4)\r\n",
      "Requirement already satisfied: jsonschema!=2.5.0,>=2.4 in /opt/conda/lib/python3.7/site-packages (from nbformat->notebook~=5.2.0->google-colab) (3.2.0)\r\n",
      "Requirement already satisfied: attrs>=17.4.0 in /opt/conda/lib/python3.7/site-packages (from jsonschema!=2.5.0,>=2.4->nbformat->notebook~=5.2.0->google-colab) (21.2.0)\r\n",
      "Requirement already satisfied: pyrsistent>=0.14.0 in /opt/conda/lib/python3.7/site-packages (from jsonschema!=2.5.0,>=2.4->nbformat->notebook~=5.2.0->google-colab) (0.18.0)\r\n",
      "Requirement already satisfied: importlib-metadata in /opt/conda/lib/python3.7/site-packages (from jsonschema!=2.5.0,>=2.4->nbformat->notebook~=5.2.0->google-colab) (4.8.2)\r\n",
      "Requirement already satisfied: packaging in /opt/conda/lib/python3.7/site-packages (from bleach->nbconvert->notebook~=5.2.0->google-colab) (21.0)\r\n",
      "Requirement already satisfied: webencodings in /opt/conda/lib/python3.7/site-packages (from bleach->nbconvert->notebook~=5.2.0->google-colab) (0.5.1)\r\n",
      "Requirement already satisfied: zipp>=0.5 in /opt/conda/lib/python3.7/site-packages (from importlib-metadata->jsonschema!=2.5.0,>=2.4->nbformat->notebook~=5.2.0->google-colab) (3.6.0)\r\n",
      "Requirement already satisfied: typing-extensions>=3.6.4 in /opt/conda/lib/python3.7/site-packages (from importlib-metadata->jsonschema!=2.5.0,>=2.4->nbformat->notebook~=5.2.0->google-colab) (3.10.0.2)\r\n",
      "Requirement already satisfied: pyparsing>=2.0.2 in /opt/conda/lib/python3.7/site-packages (from packaging->bleach->nbconvert->notebook~=5.2.0->google-colab) (3.0.6)\r\n",
      "Building wheels for collected packages: google-colab, portpicker, tornado, simplegeneric\r\n",
      "  Building wheel for google-colab (setup.py) ... \u001b[?25l-\b \b\\\b \bdone\r\n",
      "\u001b[?25h  Created wheel for google-colab: filename=google_colab-1.0.0-py2.py3-none-any.whl size=102291 sha256=e606a94ba2c1342ac3cd34980b557bc55a2fc7e308413628aa50056b8b64d026\r\n",
      "  Stored in directory: /root/.cache/pip/wheels/f6/3b/58/f34ea9045a7c69bd5634978bf25ac60277e90997d9e6e74192\r\n",
      "  Building wheel for portpicker (setup.py) ... \u001b[?25l-\b \bdone\r\n",
      "\u001b[?25h  Created wheel for portpicker: filename=portpicker-1.2.0-py3-none-any.whl size=13385 sha256=acafbb2369e2df6f56f203ab8847aac0bbc73da3497fa684cf3fc82f021f7f03\r\n",
      "  Stored in directory: /root/.cache/pip/wheels/73/0c/f5/35977446e45e818e6b848be3d41e7f38298a5102f4dcda21c6\r\n",
      "  Building wheel for tornado (setup.py) ... \u001b[?25l-\b \b\\\b \b|\b \b/\b \bdone\r\n",
      "\u001b[?25h  Created wheel for tornado: filename=tornado-4.5.3-cp37-cp37m-linux_x86_64.whl size=434365 sha256=7eb9efb1a72f3a58f92aa9636cf7e07a1b0637e05262f88de684ed61cdb67618\r\n",
      "  Stored in directory: /root/.cache/pip/wheels/a2/45/43/36ec7a893e16c1212a6b1505ded0a2d73cf8e863a0227c8e04\r\n",
      "  Building wheel for simplegeneric (setup.py) ... \u001b[?25l-\b \bdone\r\n",
      "\u001b[?25h  Created wheel for simplegeneric: filename=simplegeneric-0.8.1-py3-none-any.whl size=5077 sha256=c070d3a73d7500f58998294628b43501247b57cad3fb0e276c983634be7f9430\r\n",
      "  Stored in directory: /root/.cache/pip/wheels/90/de/df/f1324f4dd966636ab877b82d467acad38a0998b1c42ddb7288\r\n",
      "Successfully built google-colab portpicker tornado simplegeneric\r\n",
      "Installing collected packages: six, tornado, simplegeneric, prompt-toolkit, ipython, urllib3, ipykernel, idna, chardet, requests, portpicker, pandas, notebook, google-auth, google-colab\r\n",
      "  Attempting uninstall: six\r\n",
      "    Found existing installation: six 1.16.0\r\n",
      "    Uninstalling six-1.16.0:\r\n",
      "      Successfully uninstalled six-1.16.0\r\n",
      "  Attempting uninstall: tornado\r\n",
      "    Found existing installation: tornado 6.1\r\n",
      "    Uninstalling tornado-6.1:\r\n",
      "      Successfully uninstalled tornado-6.1\r\n",
      "  Attempting uninstall: prompt-toolkit\r\n",
      "    Found existing installation: prompt-toolkit 3.0.22\r\n",
      "    Uninstalling prompt-toolkit-3.0.22:\r\n",
      "      Successfully uninstalled prompt-toolkit-3.0.22\r\n",
      "  Attempting uninstall: ipython\r\n",
      "    Found existing installation: ipython 7.29.0\r\n",
      "    Uninstalling ipython-7.29.0:\r\n",
      "      Successfully uninstalled ipython-7.29.0\r\n",
      "  Attempting uninstall: urllib3\r\n",
      "    Found existing installation: urllib3 1.26.7\r\n",
      "    Uninstalling urllib3-1.26.7:\r\n",
      "      Successfully uninstalled urllib3-1.26.7\r\n",
      "  Attempting uninstall: ipykernel\r\n",
      "    Found existing installation: ipykernel 6.5.0\r\n",
      "    Uninstalling ipykernel-6.5.0:\r\n",
      "      Successfully uninstalled ipykernel-6.5.0\r\n",
      "  Attempting uninstall: idna\r\n",
      "    Found existing installation: idna 2.10\r\n",
      "    Uninstalling idna-2.10:\r\n",
      "      Successfully uninstalled idna-2.10\r\n",
      "  Attempting uninstall: chardet\r\n",
      "    Found existing installation: chardet 4.0.0\r\n",
      "    Uninstalling chardet-4.0.0:\r\n",
      "      Successfully uninstalled chardet-4.0.0\r\n",
      "  Attempting uninstall: requests\r\n",
      "    Found existing installation: requests 2.25.1\r\n",
      "    Uninstalling requests-2.25.1:\r\n",
      "      Successfully uninstalled requests-2.25.1\r\n",
      "  Attempting uninstall: pandas\r\n",
      "    Found existing installation: pandas 1.3.4\r\n",
      "    Uninstalling pandas-1.3.4:\r\n",
      "      Successfully uninstalled pandas-1.3.4\r\n",
      "  Attempting uninstall: notebook\r\n",
      "    Found existing installation: notebook 6.4.6\r\n",
      "    Uninstalling notebook-6.4.6:\r\n",
      "      Successfully uninstalled notebook-6.4.6\r\n",
      "  Attempting uninstall: google-auth\r\n",
      "    Found existing installation: google-auth 1.35.0\r\n",
      "    Uninstalling google-auth-1.35.0:\r\n",
      "      Successfully uninstalled google-auth-1.35.0\r\n",
      "\u001b[31mERROR: pip's dependency resolver does not currently take into account all the packages that are installed. This behaviour is the source of the following dependency conflicts.\r\n",
      "tensorflow-io 0.21.0 requires tensorflow-io-gcs-filesystem==0.21.0, which is not installed.\r\n",
      "explainable-ai-sdk 1.3.2 requires xai-image-widget, which is not installed.\r\n",
      "dask-cudf 21.10.1 requires cupy-cuda114, which is not installed.\r\n",
      "cudf 21.10.1 requires cupy-cuda110, which is not installed.\r\n",
      "beatrix-jupyterlab 3.1.4 requires google-cloud-bigquery-storage, which is not installed.\r\n",
      "xarray 0.20.1 requires pandas>=1.1, but you have pandas 0.24.2 which is incompatible.\r\n",
      "woodwork 0.9.1 requires pandas>=1.3.0, but you have pandas 0.24.2 which is incompatible.\r\n",
      "wandb 0.12.7 requires six>=1.13.0, but you have six 1.12.0 which is incompatible.\r\n",
      "visions 0.7.1 requires pandas>=0.25.3, but you have pandas 0.24.2 which is incompatible.\r\n",
      "tsfresh 0.18.0 requires pandas>=0.25.0, but you have pandas 0.24.2 which is incompatible.\r\n",
      "tfx-bsl 1.4.0 requires absl-py<0.13,>=0.9, but you have absl-py 0.15.0 which is incompatible.\r\n",
      "tfx-bsl 1.4.0 requires pandas<2,>=1.0, but you have pandas 0.24.2 which is incompatible.\r\n",
      "tfx-bsl 1.4.0 requires pyarrow<6,>=1, but you have pyarrow 6.0.0 which is incompatible.\r\n",
      "tensorflow 2.6.2 requires six~=1.15.0, but you have six 1.12.0 which is incompatible.\r\n",
      "tensorflow 2.6.2 requires typing-extensions~=3.7.4, but you have typing-extensions 3.10.0.2 which is incompatible.\r\n",
      "tensorflow 2.6.2 requires wrapt~=1.12.1, but you have wrapt 1.13.3 which is incompatible.\r\n",
      "tensorflow-transform 1.4.0 requires absl-py<0.13,>=0.9, but you have absl-py 0.15.0 which is incompatible.\r\n",
      "tensorflow-transform 1.4.0 requires pyarrow<6,>=1, but you have pyarrow 6.0.0 which is incompatible.\r\n",
      "tensorboard 2.6.0 requires google-auth<2,>=1.6.3, but you have google-auth 1.4.2 which is incompatible.\r\n",
      "spopt 0.2.1 requires pandas>=1, but you have pandas 0.24.2 which is incompatible.\r\n",
      "spaghetti 1.6.4 requires pandas>=1.0, but you have pandas 0.24.2 which is incompatible.\r\n",
      "sklearn-pandas 2.2.0 requires pandas>=1.1.4, but you have pandas 0.24.2 which is incompatible.\r\n",
      "pysal 2.5.0 requires urllib3>=1.26, but you have urllib3 1.24.3 which is incompatible.\r\n",
      "pyarabic 0.6.14 requires six>=1.14.0, but you have six 1.12.0 which is incompatible.\r\n",
      "plotnine 0.8.0 requires pandas>=1.1.0, but you have pandas 0.24.2 which is incompatible.\r\n",
      "phik 0.12.0 requires pandas>=0.25.1, but you have pandas 0.24.2 which is incompatible.\r\n",
      "pdpbox 0.2.1 requires matplotlib==3.1.1, but you have matplotlib 3.5.0 which is incompatible.\r\n",
      "pandas-profiling 3.0.0 requires pandas!=1.0.0,!=1.0.1,!=1.0.2,!=1.1.0,>=0.25.3, but you have pandas 0.24.2 which is incompatible.\r\n",
      "pandas-profiling 3.0.0 requires requests>=2.24.0, but you have requests 2.21.0 which is incompatible.\r\n",
      "osmnx 1.1.1 requires pandas>=1.1, but you have pandas 0.24.2 which is incompatible.\r\n",
      "osmnx 1.1.1 requires requests>=2.25, but you have requests 2.21.0 which is incompatible.\r\n",
      "mizani 0.7.3 requires pandas>=1.1.0, but you have pandas 0.24.2 which is incompatible.\r\n",
      "mapclassify 2.4.3 requires pandas>=1.0, but you have pandas 0.24.2 which is incompatible.\r\n",
      "jupyterlab 3.2.4 requires tornado>=6.1.0, but you have tornado 4.5.3 which is incompatible.\r\n",
      "jupyter-server 1.11.2 requires tornado>=6.1.0, but you have tornado 4.5.3 which is incompatible.\r\n",
      "jupyter-console 6.4.0 requires prompt-toolkit!=3.0.0,!=3.0.1,<3.1.0,>=2.0.0, but you have prompt-toolkit 1.0.18 which is incompatible.\r\n",
      "ipympl 0.7.0 requires ipykernel>=4.7, but you have ipykernel 4.6.1 which is incompatible.\r\n",
      "google-cloud-storage 1.43.0 requires google-auth<3.0dev,>=1.25.0; python_version >= \"3.6\", but you have google-auth 1.4.2 which is incompatible.\r\n",
      "google-cloud-core 1.7.2 requires google-auth<2.0dev,>=1.24.0, but you have google-auth 1.4.2 which is incompatible.\r\n",
      "google-cloud-bigquery 2.2.0 requires six<2.0.0dev,>=1.13.0, but you have six 1.12.0 which is incompatible.\r\n",
      "google-api-python-client 1.12.8 requires google-auth>=1.16.0, but you have google-auth 1.4.2 which is incompatible.\r\n",
      "google-api-python-client 1.12.8 requires six<2dev,>=1.13.0, but you have six 1.12.0 which is incompatible.\r\n",
      "google-api-core 1.31.4 requires google-auth<2.0dev,>=1.25.0, but you have google-auth 1.4.2 which is incompatible.\r\n",
      "google-api-core 1.31.4 requires six>=1.13.0, but you have six 1.12.0 which is incompatible.\r\n",
      "geopandas 0.10.2 requires pandas>=0.25.0, but you have pandas 0.24.2 which is incompatible.\r\n",
      "gcsfs 2021.11.0 requires fsspec==2021.11.0, but you have fsspec 2021.11.1 which is incompatible.\r\n",
      "featuretools 1.2.0 requires pandas<2.0.0,>=1.3.0, but you have pandas 0.24.2 which is incompatible.\r\n",
      "fbprophet 0.7.1 requires pandas>=1.0.4, but you have pandas 0.24.2 which is incompatible.\r\n",
      "explainable-ai-sdk 1.3.2 requires google.auth>=1.14.1, but you have google-auth 1.4.2 which is incompatible.\r\n",
      "distributed 2021.11.2 requires tornado>=5; python_version < \"3.8\", but you have tornado 4.5.3 which is incompatible.\r\n",
      "dask-cudf 21.10.1 requires dask==2021.09.1, but you have dask 2021.11.2 which is incompatible.\r\n",
      "dask-cudf 21.10.1 requires distributed==2021.09.1, but you have distributed 2021.11.2 which is incompatible.\r\n",
      "dask-cudf 21.10.1 requires pandas<1.4.0dev0,>=1.0, but you have pandas 0.24.2 which is incompatible.\r\n",
      "cudf 21.10.1 requires pandas<1.4.0dev0,>=1.0, but you have pandas 0.24.2 which is incompatible.\r\n",
      "cookiecutter 1.7.3 requires requests>=2.23.0, but you have requests 2.21.0 which is incompatible.\r\n",
      "bqplot 0.12.31 requires pandas<2.0.0,>=1.0.0, but you have pandas 0.24.2 which is incompatible.\r\n",
      "botocore 1.23.15 requires urllib3<1.27,>=1.25.4, but you have urllib3 1.24.3 which is incompatible.\r\n",
      "bokeh 2.4.2 requires tornado>=5.1, but you have tornado 4.5.3 which is incompatible.\r\n",
      "beatrix-jupyterlab 3.1.4 requires google-auth>=1.22.0, but you have google-auth 1.4.2 which is incompatible.\r\n",
      "beatrix-jupyterlab 3.1.4 requires requests>=2.22.0, but you have requests 2.21.0 which is incompatible.\r\n",
      "apache-beam 2.34.0 requires dill<0.3.2,>=0.3.1.1, but you have dill 0.3.4 which is incompatible.\r\n",
      "apache-beam 2.34.0 requires httplib2<0.20.0,>=0.8, but you have httplib2 0.20.2 which is incompatible.\r\n",
      "apache-beam 2.34.0 requires pyarrow<6.0.0,>=0.15.1, but you have pyarrow 6.0.0 which is incompatible.\r\n",
      "apache-beam 2.34.0 requires requests<3.0.0,>=2.24.0, but you have requests 2.21.0 which is incompatible.\r\n",
      "aiobotocore 2.0.1 requires botocore<1.22.9,>=1.22.8, but you have botocore 1.23.15 which is incompatible.\u001b[0m\r\n",
      "Successfully installed chardet-3.0.4 google-auth-1.4.2 google-colab-1.0.0 idna-2.8 ipykernel-4.6.1 ipython-5.5.0 notebook-5.2.2 pandas-0.24.2 portpicker-1.2.0 prompt-toolkit-1.0.18 requests-2.21.0 simplegeneric-0.8.1 six-1.15.0 tornado-4.5.3 urllib3-1.24.3\r\n",
      "\u001b[33mWARNING: Running pip as the 'root' user can result in broken permissions and conflicting behaviour with the system package manager. It is recommended to use a virtual environment instead: https://pip.pypa.io/warnings/venv\u001b[0m\r\n",
      "Note: you may need to restart the kernel to use updated packages.\n"
     ]
    }
   ],
   "source": [
    "pip install google-colab"
   ]
  },
  {
   "cell_type": "code",
   "execution_count": 2,
   "id": "fc061c92",
   "metadata": {
    "execution": {
     "iopub.execute_input": "2021-12-02T23:16:07.968862Z",
     "iopub.status.busy": "2021-12-02T23:16:07.968051Z",
     "iopub.status.idle": "2021-12-02T23:16:12.449429Z",
     "shell.execute_reply": "2021-12-02T23:16:12.448881Z",
     "shell.execute_reply.started": "2021-12-02T23:13:14.124555Z"
    },
    "id": "ZeIjbp_Ub8MW",
    "papermill": {
     "duration": 4.551056,
     "end_time": "2021-12-02T23:16:12.449558",
     "exception": false,
     "start_time": "2021-12-02T23:16:07.898502",
     "status": "completed"
    },
    "tags": []
   },
   "outputs": [
    {
     "name": "stderr",
     "output_type": "stream",
     "text": [
      "/opt/conda/lib/python3.7/site-packages/IPython/utils/traitlets.py:5: UserWarning: IPython.utils.traitlets has moved to a top-level traitlets package.\n",
      "  warn(\"IPython.utils.traitlets has moved to a top-level traitlets package.\")\n"
     ]
    }
   ],
   "source": [
    "import cv2           # extração dos pixels;\n",
    "import numpy as np\n",
    "import os\n",
    "import zipfile\n",
    "from google.colab.patches import cv2_imshow\n",
    "import tensorflow as tf\n",
    "import pandas as pd\n",
    "import seaborn as sns\n",
    "import matplotlib.pyplot as plt"
   ]
  },
  {
   "cell_type": "markdown",
   "id": "ce29dcc9",
   "metadata": {
    "id": "aLQKPbPYhTAR",
    "papermill": {
     "duration": 0.063291,
     "end_time": "2021-12-02T23:16:12.576516",
     "exception": false,
     "start_time": "2021-12-02T23:16:12.513225",
     "status": "completed"
    },
    "tags": []
   },
   "source": [
    "## Extraction of pixels from images"
   ]
  },
  {
   "cell_type": "code",
   "execution_count": 3,
   "id": "6c5c2994",
   "metadata": {
    "execution": {
     "iopub.execute_input": "2021-12-02T23:16:12.710132Z",
     "iopub.status.busy": "2021-12-02T23:16:12.708573Z",
     "iopub.status.idle": "2021-12-02T23:16:12.710717Z",
     "shell.execute_reply": "2021-12-02T23:16:12.711145Z",
     "shell.execute_reply.started": "2021-12-02T23:13:14.135879Z"
    },
    "id": "wBb5akZleKxa",
    "papermill": {
     "duration": 0.070445,
     "end_time": "2021-12-02T23:16:12.711277",
     "exception": false,
     "start_time": "2021-12-02T23:16:12.640832",
     "status": "completed"
    },
    "tags": []
   },
   "outputs": [],
   "source": [
    "path = '../input/neural-networks-homer-and-bart-classification/homer_bart_1'"
   ]
  },
  {
   "cell_type": "code",
   "execution_count": 4,
   "id": "0a443abd",
   "metadata": {
    "execution": {
     "iopub.execute_input": "2021-12-02T23:16:12.848374Z",
     "iopub.status.busy": "2021-12-02T23:16:12.847871Z",
     "iopub.status.idle": "2021-12-02T23:16:12.918788Z",
     "shell.execute_reply": "2021-12-02T23:16:12.918361Z",
     "shell.execute_reply.started": "2021-12-02T23:13:14.147360Z"
    },
    "id": "vBmcegE1e-rh",
    "outputId": "3ba4f24f-5d90-4880-872e-4b461008c041",
    "papermill": {
     "duration": 0.14458,
     "end_time": "2021-12-02T23:16:12.918932",
     "exception": false,
     "start_time": "2021-12-02T23:16:12.774352",
     "status": "completed"
    },
    "tags": []
   },
   "outputs": [],
   "source": [
    "directory = '../input/neural-networks-homer-and-bart-classification/homer_bart_1'\n",
    "files = [os.path.join(directory, f) for f in sorted(os.listdir(directory))]"
   ]
  },
  {
   "cell_type": "markdown",
   "id": "889cf34b",
   "metadata": {
    "id": "w0QA2vStd2ht",
    "papermill": {
     "duration": 0.087197,
     "end_time": "2021-12-02T23:16:13.079946",
     "exception": false,
     "start_time": "2021-12-02T23:16:12.992749",
     "status": "completed"
    },
    "tags": []
   },
   "source": [
    "\n",
    "\n",
    "\n",
    "**THIS IS ANOTHER ALGORITHM WE CAN USE TO MAKE RATINGS THROUGH FEATURE EXTRACTION**"
   ]
  },
  {
   "cell_type": "markdown",
   "id": "2eabb4e8",
   "metadata": {
    "id": "--TAt00Vd7F3",
    "papermill": {
     "duration": 0.063196,
     "end_time": "2021-12-02T23:16:13.210662",
     "exception": false,
     "start_time": "2021-12-02T23:16:13.147466",
     "status": "completed"
    },
    "tags": []
   },
   "source": [
    "## Feature Extractor"
   ]
  },
  {
   "cell_type": "code",
   "execution_count": 5,
   "id": "8876ad03",
   "metadata": {
    "execution": {
     "iopub.execute_input": "2021-12-02T23:16:13.341979Z",
     "iopub.status.busy": "2021-12-02T23:16:13.341192Z",
     "iopub.status.idle": "2021-12-02T23:16:13.344689Z",
     "shell.execute_reply": "2021-12-02T23:16:13.344279Z",
     "shell.execute_reply.started": "2021-12-02T23:13:14.160584Z"
    },
    "id": "orxDgc2RfW7h",
    "outputId": "10907114-f1f5-4336-e79f-9108b16a8a23",
    "papermill": {
     "duration": 0.071019,
     "end_time": "2021-12-02T23:16:13.344794",
     "exception": false,
     "start_time": "2021-12-02T23:16:13.273775",
     "status": "completed"
    },
    "tags": []
   },
   "outputs": [],
   "source": [
    "arquivos = [os.path.join(directory, f) for f in sorted(os.listdir(directory))]  "
   ]
  },
  {
   "cell_type": "code",
   "execution_count": 6,
   "id": "4f818a0a",
   "metadata": {
    "execution": {
     "iopub.execute_input": "2021-12-02T23:16:13.475005Z",
     "iopub.status.busy": "2021-12-02T23:16:13.474468Z",
     "iopub.status.idle": "2021-12-02T23:16:13.477492Z",
     "shell.execute_reply": "2021-12-02T23:16:13.478270Z",
     "shell.execute_reply.started": "2021-12-02T23:13:14.171224Z"
    },
    "id": "4jyuClm8foaT",
    "papermill": {
     "duration": 0.070257,
     "end_time": "2021-12-02T23:16:13.478400",
     "exception": false,
     "start_time": "2021-12-02T23:16:13.408143",
     "status": "completed"
    },
    "tags": []
   },
   "outputs": [],
   "source": [
    "export = 'mouth,pants,shoes,shirt,shorts,sneakers,class\\n'  "
   ]
  },
  {
   "cell_type": "code",
   "execution_count": 7,
   "id": "7c754333",
   "metadata": {
    "execution": {
     "iopub.execute_input": "2021-12-02T23:16:13.610798Z",
     "iopub.status.busy": "2021-12-02T23:16:13.610229Z",
     "iopub.status.idle": "2021-12-02T23:16:13.613191Z",
     "shell.execute_reply": "2021-12-02T23:16:13.613581Z",
     "shell.execute_reply.started": "2021-12-02T23:13:14.179443Z"
    },
    "id": "wZr1q4qGgGUy",
    "outputId": "816f4a92-d0be-444d-bd36-6da60927bb8b",
    "papermill": {
     "duration": 0.07246,
     "end_time": "2021-12-02T23:16:13.613717",
     "exception": false,
     "start_time": "2021-12-02T23:16:13.541257",
     "status": "completed"
    },
    "tags": []
   },
   "outputs": [
    {
     "data": {
      "text/plain": [
       "'mouth,pants,shoes,shirt,shorts,sneakers,class\\n'"
      ]
     },
     "execution_count": 7,
     "metadata": {},
     "output_type": "execute_result"
    }
   ],
   "source": [
    "export"
   ]
  },
  {
   "cell_type": "code",
   "execution_count": 8,
   "id": "b464e6f3",
   "metadata": {
    "execution": {
     "iopub.execute_input": "2021-12-02T23:16:13.746656Z",
     "iopub.status.busy": "2021-12-02T23:16:13.745094Z",
     "iopub.status.idle": "2021-12-02T23:16:13.747282Z",
     "shell.execute_reply": "2021-12-02T23:16:13.747689Z",
     "shell.execute_reply.started": "2021-12-02T23:13:14.189765Z"
    },
    "id": "xiIVeF72f-y4",
    "papermill": {
     "duration": 0.070294,
     "end_time": "2021-12-02T23:16:13.747833",
     "exception": false,
     "start_time": "2021-12-02T23:16:13.677539",
     "status": "completed"
    },
    "tags": []
   },
   "outputs": [],
   "source": [
    "show_images = False\n",
    "characteristics = []"
   ]
  },
  {
   "cell_type": "code",
   "execution_count": 9,
   "id": "b0d34f7c",
   "metadata": {
    "execution": {
     "iopub.execute_input": "2021-12-02T23:16:13.881787Z",
     "iopub.status.busy": "2021-12-02T23:16:13.881153Z",
     "iopub.status.idle": "2021-12-02T23:16:13.884274Z",
     "shell.execute_reply": "2021-12-02T23:16:13.884698Z",
     "shell.execute_reply.started": "2021-12-02T23:13:14.196399Z"
    },
    "id": "tzZigU4O0PUG",
    "outputId": "c0a97e3f-e496-42fd-939f-7d86aeed1a23",
    "papermill": {
     "duration": 0.072551,
     "end_time": "2021-12-02T23:16:13.884872",
     "exception": false,
     "start_time": "2021-12-02T23:16:13.812321",
     "status": "completed"
    },
    "tags": []
   },
   "outputs": [
    {
     "data": {
      "text/plain": [
       "20000"
      ]
     },
     "execution_count": 9,
     "metadata": {},
     "output_type": "execute_result"
    }
   ],
   "source": [
    "100 * 200"
   ]
  },
  {
   "cell_type": "code",
   "execution_count": 10,
   "id": "e0800531",
   "metadata": {
    "execution": {
     "iopub.execute_input": "2021-12-02T23:16:14.018376Z",
     "iopub.status.busy": "2021-12-02T23:16:14.017738Z",
     "iopub.status.idle": "2021-12-02T23:16:14.020282Z",
     "shell.execute_reply": "2021-12-02T23:16:14.020668Z",
     "shell.execute_reply.started": "2021-12-02T23:13:14.209126Z"
    },
    "id": "tiH1KnL60YUO",
    "outputId": "06096568-a236-401f-d2dc-6c38f46ce4ee",
    "papermill": {
     "duration": 0.071773,
     "end_time": "2021-12-02T23:16:14.020792",
     "exception": false,
     "start_time": "2021-12-02T23:16:13.949019",
     "status": "completed"
    },
    "tags": []
   },
   "outputs": [
    {
     "data": {
      "text/plain": [
       "10.0"
      ]
     },
     "execution_count": 10,
     "metadata": {},
     "output_type": "execute_result"
    }
   ],
   "source": [
    "(2000 / 20000) * 100"
   ]
  },
  {
   "cell_type": "code",
   "execution_count": 11,
   "id": "c9bd9ddf",
   "metadata": {
    "execution": {
     "iopub.execute_input": "2021-12-02T23:16:14.168766Z",
     "iopub.status.busy": "2021-12-02T23:16:14.168106Z",
     "iopub.status.idle": "2021-12-02T23:17:37.341762Z",
     "shell.execute_reply": "2021-12-02T23:17:37.342794Z",
     "shell.execute_reply.started": "2021-12-02T23:13:14.217649Z"
    },
    "id": "SgE4i41CgFLM",
    "papermill": {
     "duration": 83.257785,
     "end_time": "2021-12-02T23:17:37.343056",
     "exception": false,
     "start_time": "2021-12-02T23:16:14.085271",
     "status": "completed"
    },
    "tags": []
   },
   "outputs": [],
   "source": [
    "for path_image in files:\n",
    "  \n",
    "  try:\n",
    "    original_image = cv2.imread(path_image)\n",
    "    (H, W) = original_image.shape[:2]\n",
    "  except:\n",
    "    continue\n",
    "\n",
    "  altered_image = original_image.copy()\n",
    "  image_features = []\n",
    "  image_name = os.path.basename(os.path.normpath(path_image))\n",
    "  mouth = pants = shoes = 0\n",
    "  shirt = shorts = sneakers = 0\n",
    "\n",
    "  if image_name.startswith('b'): \n",
    "    classe = 0\n",
    "  else:\n",
    "    classe = 1\n",
    "\n",
    "  for height in range(0, H):\n",
    "    for width in range(0, W):\n",
    "      \n",
    "      blue = altered_image.item(height, width, 0)\n",
    "      green = altered_image.item(height, width, 1)\n",
    "      red = altered_image.item(height, width, 2)\n",
    "\n",
    "      if (blue >= 95 and blue <= 140 and green >= 160 and green <= 185 and red >= 175 and red <= 205):\n",
    "        altered_image[height, width] = [0, 255, 255]\n",
    "        mouth += 1\n",
    "\n",
    "\n",
    "      if (blue >= 150 and blue <= 180 and green >= 98 and green <= 120 and red >= 0 and red <= 90):\n",
    "        altered_image[height, width] = [0, 255, 255]\n",
    "        pants += 1\n",
    "\n",
    "\n",
    "      if height > (H / 2):\n",
    "        if (blue >= 25 and blue <= 45 and green >= 25 and green <= 45 and red >= 25 and red <= 45):\n",
    "          altered_image[height, width] = [0, 255, 255]\n",
    "          shoes += 1\n",
    "\n",
    "\n",
    "      if (blue >= 11 and blue <= 50 and green >= 85 and green <= 105 and red >= 240 and red <= 255):\n",
    "        altered_image[height, width] = [0, 255, 128]\n",
    "        shirt += 1\n",
    "\n",
    "\n",
    "      if (blue >= 125 and blue <= 170 and green >= 0 and green <= 12 and red >= 0 and red <= 20):\n",
    "        altered_image[height, width] = [0, 255, 128]\n",
    "        shorts += 1\n",
    "\n",
    "\n",
    "      if height > (H / 2):\n",
    "        if (blue >= 125 and blue <= 170 and green >= 0 and green <= 12 and red >= 0 and red <= 20):\n",
    "          altered_image[height, width] = [0, 255, 128]\n",
    "          sneakers += 1\n",
    "\n",
    "  boca = round((mouth / (H * W)) * 100, 9)\n",
    "  calca = round((pants / (H * W)) * 100, 9)\n",
    "  sapato = round((shoes / (H * W)) * 100, 9)\n",
    "  camisa = round((shirt / (H * W)) * 100, 9)\n",
    "  calcao = round((shorts / (H * W)) * 100, 9)\n",
    "  tenis = round((sneakers / (H * W)) * 100, 9)\n",
    "\n",
    "  image_features.append(mouth)\n",
    "  image_features.append(pants)\n",
    "  image_features.append(shoes)\n",
    "  image_features.append(shirt)\n",
    "  image_features.append(shorts)\n",
    "  image_features.append(sneakers)\n",
    "  image_features.append(classe)\n",
    "\n",
    "  characteristics.append(image_features)\n",
    "\n",
    "    \n",
    "  f = (\",\".join([str(item) for item in image_features]))\n",
    "  export += f + '\\n'\n",
    "\n",
    "  if show_images == True:\n",
    "    altered_image = cv2.cvtColor(altered_image, cv2.COLOR_BGR2RGB)\n",
    "    original_image = cv2.cvtColor(original_image, cv2.COLOR_BGR2RGB)\n",
    "    figura, im = plt.subplots(1, 2)\n",
    "    im[0].imshow(original_image)\n",
    "    im[0].axis('off')\n",
    "    im[1].imshow(altered_image)\n",
    "    im[1].axis('off')\n",
    "    plt.show()\n",
    "\n",
    "\n",
    "  #cv2_imshow(original_image)\n",
    "  #print(H, W)\n",
    "  #print(image_name)"
   ]
  },
  {
   "cell_type": "code",
   "execution_count": 12,
   "id": "f71f4204",
   "metadata": {
    "execution": {
     "iopub.execute_input": "2021-12-02T23:17:37.572390Z",
     "iopub.status.busy": "2021-12-02T23:17:37.571165Z",
     "iopub.status.idle": "2021-12-02T23:17:37.575215Z",
     "shell.execute_reply": "2021-12-02T23:17:37.574669Z",
     "shell.execute_reply.started": "2021-12-02T23:14:30.421905Z"
    },
    "id": "81ISSvAU9__q",
    "outputId": "325941fb-58d1-4f4b-b9a0-49703905fd11",
    "papermill": {
     "duration": 0.12172,
     "end_time": "2021-12-02T23:17:37.575351",
     "exception": false,
     "start_time": "2021-12-02T23:17:37.453631",
     "status": "completed"
    },
    "tags": []
   },
   "outputs": [
    {
     "data": {
      "text/plain": [
       "'mouth,pants,shoes,shirt,shorts,sneakers,class\\n0,0,186,11157,5663,5663,0\\n0,0,210,9548,6074,6074,0\\n0,0,289,8336,7964,7964,0\\n0,726,121,0,0,0,0\\n0,0,41,12392,4774,4774,0\\n0,0,45,5702,801,801,0\\n352,0,28,13671,5789,5789,0\\n0,0,135,0,0,0,0\\n0,0,329,0,0,0,0\\n0,0,218,18226,14290,14290,0\\n0,0,198,0,0,0,0\\n0,0,43,35005,0,0,0\\n4,0,0,8445,7280,7280,0\\n3,0,200,0,0,0,0\\n0,0,65,16956,0,0,0\\n52,0,21,22017,0,0,0\\n0,0,232,31759,12952,12952,0\\n0,0,272,32591,9887,9887,0\\n0,0,96,20958,0,0,0\\n0,0,316,10700,8055,8055,0\\n0,23,861,16454,0,0,0\\n0,0,364,31543,5940,5940,0\\n0,0,236,9422,5423,5423,0\\n0,0,292,5880,8929,0,0\\n0,0,180,0,0,0,0\\n0,0,331,46555,29890,29890,0\\n0,0,317,15673,21295,21295,0\\n0,0,524,0,0,0,0\\n49,0,241,0,0,0,0\\n0,0,268,38108,25937,25937,0\\n0,0,210,0,0,0,0\\n0,0,42,5291,0,0,0\\n0,0,193,13124,7773,7773,0\\n0,0,200,6182,0,0,0\\n0,0,79,0,3644,2262,0\\n1,0,239,20298,1375,1375,0\\n0,0,109,13732,272,272,0\\n99,0,143,12892,0,0,0\\n0,0,52,5906,1382,1382,0\\n0,0,110,5492,3279,3279,0\\n0,0,121,11020,11759,11759,0\\n0,0,83,15297,0,0,0\\n0,0,9812,18776,0,0,0\\n0,0,210,6461,8965,8965,0\\n0,0,147,0,25688,24065,0\\n0,0,453,10040,5945,5945,0\\n0,0,256,24209,6972,6972,0\\n0,0,312,28148,11833,11833,0\\n0,0,535,28904,11667,11667,0\\n0,0,453,8950,23308,21678,0\\n0,0,359,11607,6674,6674,0\\n0,0,0,3688,5615,5615,0\\n0,0,25,9096,0,0,0\\n4790,0,133,9097,7577,7577,0\\n0,0,0,0,0,0,0\\n3,0,0,8551,0,0,0\\n0,0,56,12094,0,0,0\\n1,0,106,6244,0,0,0\\n0,0,0,8329,6278,2617,0\\n0,0,162,1012,2698,2698,0\\n280,0,478,6502,2549,2549,0\\n0,0,0,7017,10073,10073,0\\n0,0,116,8636,11877,11877,0\\n0,0,1424,1771,1809,0,0\\n0,0,512,13973,14778,14778,0\\n0,0,239,19879,12036,12036,0\\n0,0,268,13169,18774,18774,0\\n0,0,285,30596,0,0,0\\n0,0,385,6749,8701,6172,0\\n0,0,196,14920,10248,10248,0\\n179,0,0,9350,4759,4759,0\\n0,0,172,11558,10054,10054,0\\n0,125,1119,4729,2750,2750,0\\n0,0,191,42247,0,0,0\\n0,0,366,0,0,0,0\\n703,0,5307,5724,908,52,0\\n0,0,791,9434,11033,11033,0\\n0,0,152,0,0,0,0\\n0,83,188,19136,0,0,0\\n0,0,138,0,0,0,0\\n0,0,286,15032,13581,13581,0\\n0,0,284,13598,2232,2139,0\\n0,484,293,4730,3408,3408,0\\n0,0,139,13089,0,0,0\\n0,0,121,11256,11111,11111,0\\n0,0,141,0,0,0,0\\n0,0,132,22081,0,0,0\\n774,0,189,6715,5166,5166,0\\n0,47,394,0,6728,6728,0\\n0,38,129,0,0,0,0\\n0,0,163,9896,7992,7992,0\\n0,0,96,0,37330,20104,0\\n8965,0,97,0,0,0,0\\n0,0,1321,8840,9753,8486,0\\n4,0,222,0,3322,3322,0\\n0,0,182,2024,2164,2164,0\\n52,0,92,9338,6884,6884,0\\n0,0,45,11392,0,0,0\\n6,9,99,21337,0,0,0\\n0,0,0,5112,1773,1773,0\\n0,0,0,10314,4667,4667,0\\n0,0,0,5184,3720,3720,0\\n0,0,117,6514,0,0,0\\n0,0,704,0,17585,8108,0\\n2,61,463,0,2281,2281,0\\n0,0,139,4574,28,25,0\\n8965,0,97,0,0,0,0\\n0,73,224,0,0,0,0\\n0,0,52,0,0,0,0\\n0,0,32,2577,898,898,0\\n0,0,207,0,60,60,0\\n47,0,0,4779,3251,3251,0\\n13,0,142,0,0,0,0\\n2,36,21,3065,0,0,0\\n0,0,53,0,0,0,0\\n21,0,36,0,0,0,0\\n6,9,99,21337,0,0,0\\n0,0,0,17349,637,637,0\\n0,0,125,0,12846,12846,0\\n0,0,0,1782,2648,806,0\\n0,0,59,0,0,0,0\\n39,0,0,0,0,0,0\\n0,0,74,0,0,0,0\\n0,0,323,8452,650,17,0\\n30,0,207,4526,16,5,0\\n78,0,55,110,0,0,0\\n0,0,297,3604,935,935,0\\n0,0,4,219,1384,1384,0\\n0,0,253,19775,14518,14518,0\\n1,61,192,4292,4491,4491,0\\n0,0,45,7823,0,0,0\\n0,0,108,5042,74,74,0\\n38,0,524,1903,0,0,0\\n0,0,0,11775,7669,7669,0\\n0,69,0,0,0,0,0\\n0,0,148,1399,0,0,0\\n0,0,104,4607,0,0,0\\n0,0,398,0,0,0,0\\n17,0,101,3561,2654,2654,0\\n0,0,245,14139,6706,6706,0\\n0,0,138,0,0,0,0\\n0,0,122,1142,0,0,0\\n0,0,86,2569,0,0,0\\n0,0,61,7624,4912,4912,0\\n0,0,76,1930,0,0,0\\n1,0,208,2840,0,0,0\\n0,0,826,11587,6769,6769,0\\n0,0,146,0,0,0,0\\n0,0,145,0,0,0,0\\n0,0,327,14349,9414,9414,0\\n3,0,28,0,0,0,0\\n0,0,211,0,0,0,0\\n5,0,257,10371,0,0,0\\n0,0,1092,5329,0,0,0\\n0,0,231,0,0,0,0\\n8,0,84,0,0,0,0\\n2,0,169,12179,10696,10696,0\\n0,0,90,7665,111,0,0\\n0,0,366,21078,2255,2255,0\\n0,0,47,12227,6813,6813,0\\n1337,23151,3282,3396,0,0,1\\n35,9287,387,0,0,0,1\\n2827,21754,3381,0,0,0,1\\n8086,439,309,0,0,0,1\\n4997,0,266,0,0,0,1\\n0,0,202,0,0,0,1\\n9358,0,252,0,0,0,1\\n4408,0,277,0,0,0,1\\n3062,0,295,0,0,0,1\\n5723,0,212,0,0,0,1\\n0,0,1850,0,0,0,1\\n4330,0,516,0,0,0,1\\n771,16637,344,597,0,0,1\\n1470,10369,77,0,0,0,1\\n1536,17772,8044,0,0,0,1\\n3167,7796,132,0,0,0,1\\n1787,0,478,0,0,0,1\\n6495,14562,192,0,0,0,1\\n15894,0,250,0,0,0,1\\n5790,40707,9409,0,0,0,1\\n2760,28283,2114,0,0,0,1\\n3835,22706,0,0,0,0,1\\n2491,0,107,0,0,0,1\\n1664,18090,1905,0,0,0,1\\n3055,46835,250,0,0,0,1\\n1325,0,262,0,0,0,1\\n2649,160,193,0,0,0,1\\n3581,0,282,0,0,0,1\\n1667,14214,1476,0,0,0,1\\n9846,0,207,0,0,0,1\\n1330,12539,1459,0,0,0,1\\n1763,12670,0,0,0,0,1\\n2764,14391,1811,0,0,0,1\\n1888,20918,2487,0,0,0,1\\n565,17412,1305,0,0,0,1\\n5974,774,380,0,0,0,1\\n587,353,0,0,0,0,1\\n3118,7169,0,0,0,0,1\\n1430,53,51,0,0,0,1\\n7483,0,231,0,0,0,1\\n726,17813,0,0,0,0,1\\n11282,0,102,0,0,0,1\\n0,84,0,0,0,0,1\\n0,24,381,0,0,0,1\\n0,23,187,0,0,0,1\\n41,79,65,0,0,0,1\\n22,8954,136,0,0,0,1\\n300,0,119,0,0,0,1\\n331,0,66,0,0,0,1\\n963,7278,200,0,0,0,1\\n131,5628,147,0,0,0,1\\n62,6830,155,415,0,0,1\\n43,5551,138,0,0,0,1\\n17,0,119,0,0,0,1\\n48,0,20,0,0,0,1\\n29,0,130,0,0,0,1\\n14,0,0,0,0,0,1\\n508,3,173,0,0,0,1\\n0,0,115,0,0,0,1\\n1117,0,0,0,0,0,1\\n0,243,220,0,0,0,1\\n35,9287,387,0,0,0,1\\n60,54,142,0,0,0,1\\n620,8,0,0,0,0,1\\n121,0,271,0,0,0,1\\n1764,2909,225,0,0,0,1\\n73,0,52,0,0,0,1\\n910,0,88,0,0,0,1\\n1121,0,103,0,0,0,1\\n3661,17279,436,0,0,0,1\\n146,4526,109,0,0,0,1\\n1192,15890,252,0,0,0,1\\n3578,0,235,0,0,0,1\\n21,0,10,0,0,0,1\\n182,0,145,0,0,0,1\\n912,0,2930,0,0,0,1\\n983,9651,0,0,0,0,1\\n0,0,205,0,0,0,1\\n1620,16743,134,0,0,0,1\\n134,37,420,0,0,0,1\\n14430,0,475,0,0,0,1\\n498,351,197,0,0,0,1\\n377,6848,459,0,0,0,1\\n352,0,154,0,0,0,1\\n1947,0,222,0,0,0,1\\n1,0,169,0,0,0,1\\n4919,32550,52,0,0,0,1\\n7200,0,422,0,0,0,1\\n5879,0,736,257,0,0,1\\n10084,4,272,0,0,0,1\\n7101,0,311,0,0,0,1\\n2307,16965,193,0,0,0,1\\n20332,0,257,0,0,0,1\\n18665,0,281,0,0,0,1\\n5129,3588,430,0,0,0,1\\n3102,0,528,0,0,0,1\\n8486,0,134,0,0,0,1\\n2508,0,258,0,0,0,1\\n2262,30190,3496,0,0,0,1\\n0,52,555,0,0,0,1\\n0,0,172,0,0,0,1\\n0,0,981,0,0,0,1\\n0,0,45,0,0,0,1\\n0,0,101,0,0,0,1\\n10634,0,282,0,0,0,1\\n0,0,249,0,0,0,1\\n3167,0,245,0,0,0,1\\n2688,0,65,0,0,0,1\\n3225,51909,611,0,0,0,1\\n'"
      ]
     },
     "execution_count": 12,
     "metadata": {},
     "output_type": "execute_result"
    }
   ],
   "source": [
    "export"
   ]
  },
  {
   "cell_type": "markdown",
   "id": "50711034",
   "metadata": {
    "id": "bYged2d8d_1O",
    "papermill": {
     "duration": 0.067302,
     "end_time": "2021-12-02T23:17:37.708362",
     "exception": false,
     "start_time": "2021-12-02T23:17:37.641060",
     "status": "completed"
    },
    "tags": []
   },
   "source": [
    "## Training and testing bases"
   ]
  },
  {
   "cell_type": "code",
   "execution_count": 13,
   "id": "b51dae8e",
   "metadata": {
    "execution": {
     "iopub.execute_input": "2021-12-02T23:17:37.850436Z",
     "iopub.status.busy": "2021-12-02T23:17:37.848252Z",
     "iopub.status.idle": "2021-12-02T23:17:37.852948Z",
     "shell.execute_reply": "2021-12-02T23:17:37.853350Z",
     "shell.execute_reply.started": "2021-12-02T23:14:30.431009Z"
    },
    "papermill": {
     "duration": 0.077968,
     "end_time": "2021-12-02T23:17:37.853486",
     "exception": false,
     "start_time": "2021-12-02T23:17:37.775518",
     "status": "completed"
    },
    "tags": []
   },
   "outputs": [
    {
     "data": {
      "text/plain": [
       "True"
      ]
     },
     "execution_count": 13,
     "metadata": {},
     "output_type": "execute_result"
    }
   ],
   "source": [
    "with open('features.csv', 'w') as file:\n",
    "  for linha in export:\n",
    "    file.write(linha)\n",
    "file.closed"
   ]
  },
  {
   "cell_type": "code",
   "execution_count": 14,
   "id": "38021b2b",
   "metadata": {
    "execution": {
     "iopub.execute_input": "2021-12-02T23:17:37.991267Z",
     "iopub.status.busy": "2021-12-02T23:17:37.990418Z",
     "iopub.status.idle": "2021-12-02T23:17:38.001267Z",
     "shell.execute_reply": "2021-12-02T23:17:38.001725Z",
     "shell.execute_reply.started": "2021-12-02T23:14:30.443106Z"
    },
    "papermill": {
     "duration": 0.081923,
     "end_time": "2021-12-02T23:17:38.001901",
     "exception": false,
     "start_time": "2021-12-02T23:17:37.919978",
     "status": "completed"
    },
    "tags": []
   },
   "outputs": [
    {
     "name": "stderr",
     "output_type": "stream",
     "text": [
      "/opt/conda/lib/python3.7/site-packages/IPython/core/interactiveshell.py:3444: FutureWarning: The error_bad_lines argument has been deprecated and will be removed in a future version.\n",
      "\n",
      "\n"
     ]
    }
   ],
   "source": [
    "dataset = pd.read_csv('features.csv', error_bad_lines = False)"
   ]
  },
  {
   "cell_type": "code",
   "execution_count": 15,
   "id": "12f255b9",
   "metadata": {
    "execution": {
     "iopub.execute_input": "2021-12-02T23:17:38.148225Z",
     "iopub.status.busy": "2021-12-02T23:17:38.147547Z",
     "iopub.status.idle": "2021-12-02T23:17:38.150144Z",
     "shell.execute_reply": "2021-12-02T23:17:38.150539Z",
     "shell.execute_reply.started": "2021-12-02T23:14:30.454057Z"
    },
    "id": "dSsUOCn0jVTW",
    "outputId": "d380ead4-c803-4aee-a186-d459c73d2252",
    "papermill": {
     "duration": 0.080062,
     "end_time": "2021-12-02T23:17:38.150667",
     "exception": false,
     "start_time": "2021-12-02T23:17:38.070605",
     "status": "completed"
    },
    "tags": []
   },
   "outputs": [
    {
     "data": {
      "text/plain": [
       "array([[    0,     0,   186, 11157,  5663,  5663],\n",
       "       [    0,     0,   210,  9548,  6074,  6074],\n",
       "       [    0,     0,   289,  8336,  7964,  7964],\n",
       "       ...,\n",
       "       [ 3167,     0,   245,     0,     0,     0],\n",
       "       [ 2688,     0,    65,     0,     0,     0],\n",
       "       [ 3225, 51909,   611,     0,     0,     0]])"
      ]
     },
     "execution_count": 15,
     "metadata": {},
     "output_type": "execute_result"
    }
   ],
   "source": [
    "X = dataset.iloc[:, 0:6].values   \n",
    "X"
   ]
  },
  {
   "cell_type": "code",
   "execution_count": 16,
   "id": "be48c66c",
   "metadata": {
    "execution": {
     "iopub.execute_input": "2021-12-02T23:17:38.289794Z",
     "iopub.status.busy": "2021-12-02T23:17:38.289213Z",
     "iopub.status.idle": "2021-12-02T23:17:38.291793Z",
     "shell.execute_reply": "2021-12-02T23:17:38.292245Z",
     "shell.execute_reply.started": "2021-12-02T23:14:30.462654Z"
    },
    "id": "FgyzxSRLjuqs",
    "outputId": "17065d79-01fc-4930-f4d2-97a530c318e9",
    "papermill": {
     "duration": 0.075349,
     "end_time": "2021-12-02T23:17:38.292374",
     "exception": false,
     "start_time": "2021-12-02T23:17:38.217025",
     "status": "completed"
    },
    "tags": []
   },
   "outputs": [
    {
     "data": {
      "text/plain": [
       "array([0, 0, 0, 0, 0, 0, 0, 0, 0, 0, 0, 0, 0, 0, 0, 0, 0, 0, 0, 0, 0, 0,\n",
       "       0, 0, 0, 0, 0, 0, 0, 0, 0, 0, 0, 0, 0, 0, 0, 0, 0, 0, 0, 0, 0, 0,\n",
       "       0, 0, 0, 0, 0, 0, 0, 0, 0, 0, 0, 0, 0, 0, 0, 0, 0, 0, 0, 0, 0, 0,\n",
       "       0, 0, 0, 0, 0, 0, 0, 0, 0, 0, 0, 0, 0, 0, 0, 0, 0, 0, 0, 0, 0, 0,\n",
       "       0, 0, 0, 0, 0, 0, 0, 0, 0, 0, 0, 0, 0, 0, 0, 0, 0, 0, 0, 0, 0, 0,\n",
       "       0, 0, 0, 0, 0, 0, 0, 0, 0, 0, 0, 0, 0, 0, 0, 0, 0, 0, 0, 0, 0, 0,\n",
       "       0, 0, 0, 0, 0, 0, 0, 0, 0, 0, 0, 0, 0, 0, 0, 0, 0, 0, 0, 0, 0, 0,\n",
       "       0, 0, 0, 0, 0, 0, 1, 1, 1, 1, 1, 1, 1, 1, 1, 1, 1, 1, 1, 1, 1, 1,\n",
       "       1, 1, 1, 1, 1, 1, 1, 1, 1, 1, 1, 1, 1, 1, 1, 1, 1, 1, 1, 1, 1, 1,\n",
       "       1, 1, 1, 1, 1, 1, 1, 1, 1, 1, 1, 1, 1, 1, 1, 1, 1, 1, 1, 1, 1, 1,\n",
       "       1, 1, 1, 1, 1, 1, 1, 1, 1, 1, 1, 1, 1, 1, 1, 1, 1, 1, 1, 1, 1, 1,\n",
       "       1, 1, 1, 1, 1, 1, 1, 1, 1, 1, 1, 1, 1, 1, 1, 1, 1, 1, 1, 1, 1, 1,\n",
       "       1, 1, 1, 1, 1])"
      ]
     },
     "execution_count": 16,
     "metadata": {},
     "output_type": "execute_result"
    }
   ],
   "source": [
    "y = dataset.iloc[:, 6].values  \n",
    "y"
   ]
  },
  {
   "cell_type": "code",
   "execution_count": 17,
   "id": "52f90536",
   "metadata": {
    "execution": {
     "iopub.execute_input": "2021-12-02T23:17:38.430131Z",
     "iopub.status.busy": "2021-12-02T23:17:38.429310Z",
     "iopub.status.idle": "2021-12-02T23:17:38.561186Z",
     "shell.execute_reply": "2021-12-02T23:17:38.561588Z",
     "shell.execute_reply.started": "2021-12-02T23:14:30.474038Z"
    },
    "id": "3J_kzvpRj3IX",
    "papermill": {
     "duration": 0.203953,
     "end_time": "2021-12-02T23:17:38.561743",
     "exception": false,
     "start_time": "2021-12-02T23:17:38.357790",
     "status": "completed"
    },
    "tags": []
   },
   "outputs": [],
   "source": [
    "from sklearn.model_selection import train_test_split\n",
    "X_train, X_test, y_train, y_test = train_test_split(X, y, test_size = 0.2, random_state = 1)"
   ]
  },
  {
   "cell_type": "code",
   "execution_count": 18,
   "id": "fbe4a69d",
   "metadata": {
    "execution": {
     "iopub.execute_input": "2021-12-02T23:17:38.701026Z",
     "iopub.status.busy": "2021-12-02T23:17:38.700275Z",
     "iopub.status.idle": "2021-12-02T23:17:38.703058Z",
     "shell.execute_reply": "2021-12-02T23:17:38.703457Z",
     "shell.execute_reply.started": "2021-12-02T23:14:30.481274Z"
    },
    "id": "SIuSrP_jkCwT",
    "outputId": "aa013a91-8c3a-4d7e-9ebb-5a4302cfa866",
    "papermill": {
     "duration": 0.0746,
     "end_time": "2021-12-02T23:17:38.703586",
     "exception": false,
     "start_time": "2021-12-02T23:17:38.628986",
     "status": "completed"
    },
    "tags": []
   },
   "outputs": [
    {
     "data": {
      "text/plain": [
       "((215, 6), (215,))"
      ]
     },
     "execution_count": 18,
     "metadata": {},
     "output_type": "execute_result"
    }
   ],
   "source": [
    "X_train.shape, y_train.shape"
   ]
  },
  {
   "cell_type": "code",
   "execution_count": 19,
   "id": "f213a322",
   "metadata": {
    "execution": {
     "iopub.execute_input": "2021-12-02T23:17:38.843030Z",
     "iopub.status.busy": "2021-12-02T23:17:38.842346Z",
     "iopub.status.idle": "2021-12-02T23:17:38.844978Z",
     "shell.execute_reply": "2021-12-02T23:17:38.845376Z",
     "shell.execute_reply.started": "2021-12-02T23:14:30.490563Z"
    },
    "id": "dXmLc2bZkLv7",
    "outputId": "3f414499-72ef-4e7d-b00a-1d92b6f83fae",
    "papermill": {
     "duration": 0.074784,
     "end_time": "2021-12-02T23:17:38.845498",
     "exception": false,
     "start_time": "2021-12-02T23:17:38.770714",
     "status": "completed"
    },
    "tags": []
   },
   "outputs": [
    {
     "data": {
      "text/plain": [
       "((54, 6), (54,))"
      ]
     },
     "execution_count": 19,
     "metadata": {},
     "output_type": "execute_result"
    }
   ],
   "source": [
    "X_test.shape, y_test.shape"
   ]
  },
  {
   "cell_type": "markdown",
   "id": "89c22de5",
   "metadata": {
    "id": "POULQHcSeDtD",
    "papermill": {
     "duration": 0.06771,
     "end_time": "2021-12-02T23:17:38.980554",
     "exception": false,
     "start_time": "2021-12-02T23:17:38.912844",
     "status": "completed"
    },
    "tags": []
   },
   "source": [
    "## Construction and training of the neural network"
   ]
  },
  {
   "cell_type": "code",
   "execution_count": 20,
   "id": "72199f24",
   "metadata": {
    "execution": {
     "iopub.execute_input": "2021-12-02T23:17:39.124503Z",
     "iopub.status.busy": "2021-12-02T23:17:39.123794Z",
     "iopub.status.idle": "2021-12-02T23:17:39.126385Z",
     "shell.execute_reply": "2021-12-02T23:17:39.126835Z",
     "shell.execute_reply.started": "2021-12-02T23:14:30.499388Z"
    },
    "id": "StRoWLLok1sB",
    "outputId": "5eaca0a3-cdad-4233-8618-5ca3b57ed3e3",
    "papermill": {
     "duration": 0.077845,
     "end_time": "2021-12-02T23:17:39.126985",
     "exception": false,
     "start_time": "2021-12-02T23:17:39.049140",
     "status": "completed"
    },
    "tags": []
   },
   "outputs": [
    {
     "data": {
      "text/plain": [
       "4.0"
      ]
     },
     "execution_count": 20,
     "metadata": {},
     "output_type": "execute_result"
    }
   ],
   "source": [
    "(6 + 2) / 2"
   ]
  },
  {
   "cell_type": "code",
   "execution_count": 21,
   "id": "16523e21",
   "metadata": {
    "execution": {
     "iopub.execute_input": "2021-12-02T23:17:39.272063Z",
     "iopub.status.busy": "2021-12-02T23:17:39.271313Z",
     "iopub.status.idle": "2021-12-02T23:17:42.487426Z",
     "shell.execute_reply": "2021-12-02T23:17:42.487888Z",
     "shell.execute_reply.started": "2021-12-02T23:14:30.507935Z"
    },
    "id": "MfIeOLtdkd9v",
    "papermill": {
     "duration": 3.290459,
     "end_time": "2021-12-02T23:17:42.488063",
     "exception": false,
     "start_time": "2021-12-02T23:17:39.197604",
     "status": "completed"
    },
    "tags": []
   },
   "outputs": [
    {
     "name": "stderr",
     "output_type": "stream",
     "text": [
      "2021-12-02 23:17:40.142702: I tensorflow/stream_executor/cuda/cuda_gpu_executor.cc:937] successful NUMA node read from SysFS had negative value (-1), but there must be at least one NUMA node, so returning NUMA node zero\n",
      "2021-12-02 23:17:40.273845: I tensorflow/stream_executor/cuda/cuda_gpu_executor.cc:937] successful NUMA node read from SysFS had negative value (-1), but there must be at least one NUMA node, so returning NUMA node zero\n",
      "2021-12-02 23:17:40.274558: I tensorflow/stream_executor/cuda/cuda_gpu_executor.cc:937] successful NUMA node read from SysFS had negative value (-1), but there must be at least one NUMA node, so returning NUMA node zero\n",
      "2021-12-02 23:17:40.275682: I tensorflow/core/platform/cpu_feature_guard.cc:142] This TensorFlow binary is optimized with oneAPI Deep Neural Network Library (oneDNN) to use the following CPU instructions in performance-critical operations:  AVX2 AVX512F FMA\n",
      "To enable them in other operations, rebuild TensorFlow with the appropriate compiler flags.\n",
      "2021-12-02 23:17:40.276881: I tensorflow/stream_executor/cuda/cuda_gpu_executor.cc:937] successful NUMA node read from SysFS had negative value (-1), but there must be at least one NUMA node, so returning NUMA node zero\n",
      "2021-12-02 23:17:40.277551: I tensorflow/stream_executor/cuda/cuda_gpu_executor.cc:937] successful NUMA node read from SysFS had negative value (-1), but there must be at least one NUMA node, so returning NUMA node zero\n",
      "2021-12-02 23:17:40.278164: I tensorflow/stream_executor/cuda/cuda_gpu_executor.cc:937] successful NUMA node read from SysFS had negative value (-1), but there must be at least one NUMA node, so returning NUMA node zero\n",
      "2021-12-02 23:17:42.098507: I tensorflow/stream_executor/cuda/cuda_gpu_executor.cc:937] successful NUMA node read from SysFS had negative value (-1), but there must be at least one NUMA node, so returning NUMA node zero\n",
      "2021-12-02 23:17:42.099332: I tensorflow/stream_executor/cuda/cuda_gpu_executor.cc:937] successful NUMA node read from SysFS had negative value (-1), but there must be at least one NUMA node, so returning NUMA node zero\n",
      "2021-12-02 23:17:42.100063: I tensorflow/stream_executor/cuda/cuda_gpu_executor.cc:937] successful NUMA node read from SysFS had negative value (-1), but there must be at least one NUMA node, so returning NUMA node zero\n",
      "2021-12-02 23:17:42.100714: I tensorflow/core/common_runtime/gpu/gpu_device.cc:1510] Created device /job:localhost/replica:0/task:0/device:GPU:0 with 15403 MB memory:  -> device: 0, name: Tesla P100-PCIE-16GB, pci bus id: 0000:00:04.0, compute capability: 6.0\n"
     ]
    }
   ],
   "source": [
    "network = tf.keras.Sequential()\n",
    "network.add(tf.keras.layers.Dense(input_shape = (6,), units = 4, activation='relu'))\n",
    "network.add(tf.keras.layers.Dense(units=4, activation='relu'))\n",
    "network.add(tf.keras.layers.Dense(units=4, activation='relu'))\n",
    "network.add(tf.keras.layers.Dense(units = 1, activation='sigmoid'))"
   ]
  },
  {
   "cell_type": "code",
   "execution_count": 22,
   "id": "5b4a33cb",
   "metadata": {
    "execution": {
     "iopub.execute_input": "2021-12-02T23:17:42.635225Z",
     "iopub.status.busy": "2021-12-02T23:17:42.632842Z",
     "iopub.status.idle": "2021-12-02T23:17:42.637831Z",
     "shell.execute_reply": "2021-12-02T23:17:42.638432Z",
     "shell.execute_reply.started": "2021-12-02T23:14:30.549568Z"
    },
    "id": "OOZJymcIlaJj",
    "outputId": "4890c2bc-af54-4d87-ab45-56d0f325b0de",
    "papermill": {
     "duration": 0.08132,
     "end_time": "2021-12-02T23:17:42.638612",
     "exception": false,
     "start_time": "2021-12-02T23:17:42.557292",
     "status": "completed"
    },
    "tags": []
   },
   "outputs": [
    {
     "name": "stdout",
     "output_type": "stream",
     "text": [
      "Model: \"sequential\"\n",
      "_________________________________________________________________\n",
      "Layer (type)                 Output Shape              Param #   \n",
      "=================================================================\n",
      "dense (Dense)                (None, 4)                 28        \n",
      "_________________________________________________________________\n",
      "dense_1 (Dense)              (None, 4)                 20        \n",
      "_________________________________________________________________\n",
      "dense_2 (Dense)              (None, 4)                 20        \n",
      "_________________________________________________________________\n",
      "dense_3 (Dense)              (None, 1)                 5         \n",
      "=================================================================\n",
      "Total params: 73\n",
      "Trainable params: 73\n",
      "Non-trainable params: 0\n",
      "_________________________________________________________________\n"
     ]
    }
   ],
   "source": [
    "network.summary()"
   ]
  },
  {
   "cell_type": "code",
   "execution_count": 23,
   "id": "2d1506a2",
   "metadata": {
    "execution": {
     "iopub.execute_input": "2021-12-02T23:17:42.782919Z",
     "iopub.status.busy": "2021-12-02T23:17:42.782162Z",
     "iopub.status.idle": "2021-12-02T23:17:42.792046Z",
     "shell.execute_reply": "2021-12-02T23:17:42.791590Z",
     "shell.execute_reply.started": "2021-12-02T23:14:30.559246Z"
    },
    "id": "WfzKv1Dzlizv",
    "papermill": {
     "duration": 0.084416,
     "end_time": "2021-12-02T23:17:42.792174",
     "exception": false,
     "start_time": "2021-12-02T23:17:42.707758",
     "status": "completed"
    },
    "tags": []
   },
   "outputs": [],
   "source": [
    "network.compile(optimizer='Adam', loss='binary_crossentropy', metrics = ['accuracy'])"
   ]
  },
  {
   "cell_type": "code",
   "execution_count": 24,
   "id": "99b85faa",
   "metadata": {
    "execution": {
     "iopub.execute_input": "2021-12-02T23:17:42.933598Z",
     "iopub.status.busy": "2021-12-02T23:17:42.932776Z",
     "iopub.status.idle": "2021-12-02T23:17:46.264690Z",
     "shell.execute_reply": "2021-12-02T23:17:46.265171Z",
     "shell.execute_reply.started": "2021-12-02T23:14:30.571099Z"
    },
    "id": "NcFjxO98lq47",
    "outputId": "8a9ed3f9-ae75-4dbd-f9bc-559ad05aab59",
    "papermill": {
     "duration": 3.405181,
     "end_time": "2021-12-02T23:17:46.265329",
     "exception": false,
     "start_time": "2021-12-02T23:17:42.860148",
     "status": "completed"
    },
    "tags": []
   },
   "outputs": [
    {
     "name": "stderr",
     "output_type": "stream",
     "text": [
      "2021-12-02 23:17:43.007845: I tensorflow/compiler/mlir/mlir_graph_optimization_pass.cc:185] None of the MLIR Optimization Passes are enabled (registered 2)\n"
     ]
    },
    {
     "name": "stdout",
     "output_type": "stream",
     "text": [
      "Epoch 1/80\n",
      "7/7 [==============================] - 1s 3ms/step - loss: 677.0502 - accuracy: 0.4186\n",
      "Epoch 2/80\n",
      "7/7 [==============================] - 0s 3ms/step - loss: 592.6348 - accuracy: 0.4186\n",
      "Epoch 3/80\n",
      "7/7 [==============================] - 0s 3ms/step - loss: 532.8191 - accuracy: 0.4186\n",
      "Epoch 4/80\n",
      "7/7 [==============================] - 0s 3ms/step - loss: 476.4842 - accuracy: 0.4186\n",
      "Epoch 5/80\n",
      "7/7 [==============================] - 0s 3ms/step - loss: 425.7019 - accuracy: 0.4186\n",
      "Epoch 6/80\n",
      "7/7 [==============================] - 0s 3ms/step - loss: 383.3720 - accuracy: 0.4233\n",
      "Epoch 7/80\n",
      "7/7 [==============================] - 0s 3ms/step - loss: 346.0025 - accuracy: 0.4279\n",
      "Epoch 8/80\n",
      "7/7 [==============================] - 0s 3ms/step - loss: 308.4059 - accuracy: 0.4419\n",
      "Epoch 9/80\n",
      "7/7 [==============================] - 0s 3ms/step - loss: 275.8760 - accuracy: 0.4465\n",
      "Epoch 10/80\n",
      "7/7 [==============================] - 0s 3ms/step - loss: 246.1245 - accuracy: 0.4465\n",
      "Epoch 11/80\n",
      "7/7 [==============================] - 0s 3ms/step - loss: 216.5449 - accuracy: 0.4465\n",
      "Epoch 12/80\n",
      "7/7 [==============================] - 0s 3ms/step - loss: 192.3449 - accuracy: 0.4605\n",
      "Epoch 13/80\n",
      "7/7 [==============================] - 0s 3ms/step - loss: 168.1160 - accuracy: 0.4651\n",
      "Epoch 14/80\n",
      "7/7 [==============================] - 0s 3ms/step - loss: 146.2465 - accuracy: 0.4698\n",
      "Epoch 15/80\n",
      "7/7 [==============================] - 0s 3ms/step - loss: 127.0603 - accuracy: 0.4930\n",
      "Epoch 16/80\n",
      "7/7 [==============================] - 0s 3ms/step - loss: 109.4641 - accuracy: 0.5070\n",
      "Epoch 17/80\n",
      "7/7 [==============================] - 0s 3ms/step - loss: 92.0766 - accuracy: 0.5442\n",
      "Epoch 18/80\n",
      "7/7 [==============================] - 0s 3ms/step - loss: 78.5728 - accuracy: 0.5860\n",
      "Epoch 19/80\n",
      "7/7 [==============================] - 0s 3ms/step - loss: 68.6678 - accuracy: 0.6093\n",
      "Epoch 20/80\n",
      "7/7 [==============================] - 0s 3ms/step - loss: 58.1019 - accuracy: 0.6093\n",
      "Epoch 21/80\n",
      "7/7 [==============================] - 0s 3ms/step - loss: 49.7768 - accuracy: 0.6093\n",
      "Epoch 22/80\n",
      "7/7 [==============================] - 0s 3ms/step - loss: 41.7879 - accuracy: 0.6326\n",
      "Epoch 23/80\n",
      "7/7 [==============================] - 0s 3ms/step - loss: 36.9009 - accuracy: 0.6419\n",
      "Epoch 24/80\n",
      "7/7 [==============================] - 0s 3ms/step - loss: 32.0189 - accuracy: 0.6512\n",
      "Epoch 25/80\n",
      "7/7 [==============================] - 0s 3ms/step - loss: 28.2743 - accuracy: 0.6512\n",
      "Epoch 26/80\n",
      "7/7 [==============================] - 0s 3ms/step - loss: 24.2017 - accuracy: 0.6605\n",
      "Epoch 27/80\n",
      "7/7 [==============================] - 0s 3ms/step - loss: 20.6857 - accuracy: 0.6605\n",
      "Epoch 28/80\n",
      "7/7 [==============================] - 0s 3ms/step - loss: 17.3952 - accuracy: 0.6651\n",
      "Epoch 29/80\n",
      "7/7 [==============================] - 0s 3ms/step - loss: 14.0887 - accuracy: 0.7023\n",
      "Epoch 30/80\n",
      "7/7 [==============================] - 0s 3ms/step - loss: 11.7190 - accuracy: 0.7023\n",
      "Epoch 31/80\n",
      "7/7 [==============================] - 0s 3ms/step - loss: 9.2441 - accuracy: 0.7163\n",
      "Epoch 32/80\n",
      "7/7 [==============================] - 0s 3ms/step - loss: 7.3937 - accuracy: 0.8372\n",
      "Epoch 33/80\n",
      "7/7 [==============================] - 0s 3ms/step - loss: 6.9003 - accuracy: 0.8512\n",
      "Epoch 34/80\n",
      "7/7 [==============================] - 0s 3ms/step - loss: 6.5321 - accuracy: 0.8465\n",
      "Epoch 35/80\n",
      "7/7 [==============================] - 0s 2ms/step - loss: 6.1420 - accuracy: 0.8372\n",
      "Epoch 36/80\n",
      "7/7 [==============================] - 0s 3ms/step - loss: 5.8707 - accuracy: 0.8279\n",
      "Epoch 37/80\n",
      "7/7 [==============================] - 0s 3ms/step - loss: 5.6811 - accuracy: 0.8279\n",
      "Epoch 38/80\n",
      "7/7 [==============================] - 0s 3ms/step - loss: 5.3461 - accuracy: 0.8233\n",
      "Epoch 39/80\n",
      "7/7 [==============================] - 0s 3ms/step - loss: 5.1353 - accuracy: 0.8558\n",
      "Epoch 40/80\n",
      "7/7 [==============================] - 0s 3ms/step - loss: 4.8732 - accuracy: 0.8698\n",
      "Epoch 41/80\n",
      "7/7 [==============================] - 0s 3ms/step - loss: 4.6529 - accuracy: 0.8837\n",
      "Epoch 42/80\n",
      "7/7 [==============================] - 0s 3ms/step - loss: 4.4181 - accuracy: 0.8791\n",
      "Epoch 43/80\n",
      "7/7 [==============================] - 0s 3ms/step - loss: 4.2508 - accuracy: 0.8698\n",
      "Epoch 44/80\n",
      "7/7 [==============================] - 0s 3ms/step - loss: 4.1828 - accuracy: 0.8744\n",
      "Epoch 45/80\n",
      "7/7 [==============================] - 0s 3ms/step - loss: 4.0313 - accuracy: 0.8791\n",
      "Epoch 46/80\n",
      "7/7 [==============================] - 0s 3ms/step - loss: 3.9016 - accuracy: 0.8884\n",
      "Epoch 47/80\n",
      "7/7 [==============================] - 0s 3ms/step - loss: 3.8296 - accuracy: 0.8837\n",
      "Epoch 48/80\n",
      "7/7 [==============================] - 0s 3ms/step - loss: 3.7553 - accuracy: 0.8791\n",
      "Epoch 49/80\n",
      "7/7 [==============================] - 0s 3ms/step - loss: 3.6047 - accuracy: 0.8558\n",
      "Epoch 50/80\n",
      "7/7 [==============================] - 0s 3ms/step - loss: 3.4628 - accuracy: 0.8512\n",
      "Epoch 51/80\n",
      "7/7 [==============================] - 0s 3ms/step - loss: 3.3786 - accuracy: 0.8605\n",
      "Epoch 52/80\n",
      "7/7 [==============================] - 0s 3ms/step - loss: 3.2141 - accuracy: 0.8837\n",
      "Epoch 53/80\n",
      "7/7 [==============================] - 0s 3ms/step - loss: 3.1022 - accuracy: 0.8791\n",
      "Epoch 54/80\n",
      "7/7 [==============================] - 0s 3ms/step - loss: 3.0050 - accuracy: 0.8744\n",
      "Epoch 55/80\n",
      "7/7 [==============================] - 0s 3ms/step - loss: 2.8803 - accuracy: 0.8698\n",
      "Epoch 56/80\n",
      "7/7 [==============================] - 0s 3ms/step - loss: 2.7573 - accuracy: 0.8744\n",
      "Epoch 57/80\n",
      "7/7 [==============================] - 0s 3ms/step - loss: 2.6439 - accuracy: 0.8744\n",
      "Epoch 58/80\n",
      "7/7 [==============================] - 0s 3ms/step - loss: 2.4791 - accuracy: 0.8698\n",
      "Epoch 59/80\n",
      "7/7 [==============================] - 0s 3ms/step - loss: 2.3779 - accuracy: 0.8558\n",
      "Epoch 60/80\n",
      "7/7 [==============================] - 0s 3ms/step - loss: 2.2516 - accuracy: 0.8698\n",
      "Epoch 61/80\n",
      "7/7 [==============================] - 0s 3ms/step - loss: 2.1262 - accuracy: 0.8698\n",
      "Epoch 62/80\n",
      "7/7 [==============================] - 0s 3ms/step - loss: 1.9686 - accuracy: 0.8651\n",
      "Epoch 63/80\n",
      "7/7 [==============================] - 0s 3ms/step - loss: 1.8645 - accuracy: 0.8698\n",
      "Epoch 64/80\n",
      "7/7 [==============================] - 0s 3ms/step - loss: 1.7637 - accuracy: 0.8651\n",
      "Epoch 65/80\n",
      "7/7 [==============================] - 0s 3ms/step - loss: 1.7134 - accuracy: 0.8605\n",
      "Epoch 66/80\n",
      "7/7 [==============================] - 0s 3ms/step - loss: 1.6728 - accuracy: 0.8605\n",
      "Epoch 67/80\n",
      "7/7 [==============================] - 0s 3ms/step - loss: 1.6497 - accuracy: 0.8605\n",
      "Epoch 68/80\n",
      "7/7 [==============================] - 0s 3ms/step - loss: 1.6070 - accuracy: 0.8605\n",
      "Epoch 69/80\n",
      "7/7 [==============================] - 0s 3ms/step - loss: 1.5787 - accuracy: 0.8605\n",
      "Epoch 70/80\n",
      "7/7 [==============================] - 0s 3ms/step - loss: 1.5452 - accuracy: 0.8605\n",
      "Epoch 71/80\n",
      "7/7 [==============================] - 0s 3ms/step - loss: 1.5219 - accuracy: 0.8558\n",
      "Epoch 72/80\n",
      "7/7 [==============================] - 0s 3ms/step - loss: 1.4789 - accuracy: 0.8465\n",
      "Epoch 73/80\n",
      "7/7 [==============================] - 0s 3ms/step - loss: 1.4396 - accuracy: 0.8558\n",
      "Epoch 74/80\n",
      "7/7 [==============================] - 0s 3ms/step - loss: 1.4501 - accuracy: 0.8651\n",
      "Epoch 75/80\n",
      "7/7 [==============================] - 0s 4ms/step - loss: 1.4011 - accuracy: 0.8605\n",
      "Epoch 76/80\n",
      "7/7 [==============================] - 0s 3ms/step - loss: 1.3682 - accuracy: 0.8558\n",
      "Epoch 77/80\n",
      "7/7 [==============================] - 0s 3ms/step - loss: 1.3328 - accuracy: 0.8512\n",
      "Epoch 78/80\n",
      "7/7 [==============================] - 0s 3ms/step - loss: 1.2940 - accuracy: 0.8605\n",
      "Epoch 79/80\n",
      "7/7 [==============================] - 0s 3ms/step - loss: 1.2648 - accuracy: 0.8558\n",
      "Epoch 80/80\n",
      "7/7 [==============================] - 0s 3ms/step - loss: 1.2295 - accuracy: 0.8512\n"
     ]
    }
   ],
   "source": [
    "historic = network.fit(X_train, y_train, epochs = 80)"
   ]
  },
  {
   "cell_type": "markdown",
   "id": "1ae26506",
   "metadata": {
    "id": "wnXAlz2TeG22",
    "papermill": {
     "duration": 0.113764,
     "end_time": "2021-12-02T23:17:46.493544",
     "exception": false,
     "start_time": "2021-12-02T23:17:46.379780",
     "status": "completed"
    },
    "tags": []
   },
   "source": [
    "## Neural network evaluation"
   ]
  },
  {
   "cell_type": "code",
   "execution_count": 25,
   "id": "95ece6b7",
   "metadata": {
    "execution": {
     "iopub.execute_input": "2021-12-02T23:17:46.728084Z",
     "iopub.status.busy": "2021-12-02T23:17:46.727427Z",
     "iopub.status.idle": "2021-12-02T23:17:46.730087Z",
     "shell.execute_reply": "2021-12-02T23:17:46.730480Z",
     "shell.execute_reply.started": "2021-12-02T23:14:33.536345Z"
    },
    "id": "aHyKYIndmivV",
    "outputId": "7471ba6a-a4d5-4527-c535-2c6986191f22",
    "papermill": {
     "duration": 0.121521,
     "end_time": "2021-12-02T23:17:46.730607",
     "exception": false,
     "start_time": "2021-12-02T23:17:46.609086",
     "status": "completed"
    },
    "tags": []
   },
   "outputs": [
    {
     "data": {
      "text/plain": [
       "dict_keys(['loss', 'accuracy'])"
      ]
     },
     "execution_count": 25,
     "metadata": {},
     "output_type": "execute_result"
    }
   ],
   "source": [
    "historic.history.keys()"
   ]
  },
  {
   "cell_type": "code",
   "execution_count": 26,
   "id": "b7bbc3b2",
   "metadata": {
    "execution": {
     "iopub.execute_input": "2021-12-02T23:17:46.966459Z",
     "iopub.status.busy": "2021-12-02T23:17:46.965602Z",
     "iopub.status.idle": "2021-12-02T23:17:47.188034Z",
     "shell.execute_reply": "2021-12-02T23:17:47.187547Z",
     "shell.execute_reply.started": "2021-12-02T23:14:33.544609Z"
    },
    "id": "fC9PLihSmmol",
    "outputId": "1f820301-ab84-4499-a0ca-792a8942173f",
    "papermill": {
     "duration": 0.34348,
     "end_time": "2021-12-02T23:17:47.188173",
     "exception": false,
     "start_time": "2021-12-02T23:17:46.844693",
     "status": "completed"
    },
    "tags": []
   },
   "outputs": [
    {
     "data": {
      "image/png": "[encoded data removed]",
      "text/plain": [
       "<Figure size 432x288 with 1 Axes>"
      ]
     },
     "metadata": {
      "needs_background": "light"
     },
     "output_type": "display_data"
    }
   ],
   "source": [
    "plt.plot(historic.history['loss']);"
   ]
  },
  {
   "cell_type": "code",
   "execution_count": 27,
   "id": "5b1a4510",
   "metadata": {
    "execution": {
     "iopub.execute_input": "2021-12-02T23:17:47.431008Z",
     "iopub.status.busy": "2021-12-02T23:17:47.430124Z",
     "iopub.status.idle": "2021-12-02T23:17:47.616418Z",
     "shell.execute_reply": "2021-12-02T23:17:47.616827Z",
     "shell.execute_reply.started": "2021-12-02T23:14:33.764925Z"
    },
    "id": "joPDgrsPm577",
    "outputId": "f35b9c55-ac1b-43bf-baad-9ae005b26afb",
    "papermill": {
     "duration": 0.313432,
     "end_time": "2021-12-02T23:17:47.616991",
     "exception": false,
     "start_time": "2021-12-02T23:17:47.303559",
     "status": "completed"
    },
    "tags": []
   },
   "outputs": [
    {
     "data": {
      "image/png": "[encoded data removed]",
      "text/plain": [
       "<Figure size 432x288 with 1 Axes>"
      ]
     },
     "metadata": {
      "needs_background": "light"
     },
     "output_type": "display_data"
    }
   ],
   "source": [
    "plt.plot(historic.history['accuracy']);"
   ]
  },
  {
   "cell_type": "code",
   "execution_count": 28,
   "id": "b4bac70e",
   "metadata": {
    "execution": {
     "iopub.execute_input": "2021-12-02T23:17:47.856291Z",
     "iopub.status.busy": "2021-12-02T23:17:47.855389Z",
     "iopub.status.idle": "2021-12-02T23:17:47.861047Z",
     "shell.execute_reply": "2021-12-02T23:17:47.861464Z",
     "shell.execute_reply.started": "2021-12-02T23:14:33.958386Z"
    },
    "id": "LNTHinaTnDxo",
    "outputId": "fa4a1e9a-b5b8-4917-970e-377299e0c5eb",
    "papermill": {
     "duration": 0.128989,
     "end_time": "2021-12-02T23:17:47.861601",
     "exception": false,
     "start_time": "2021-12-02T23:17:47.732612",
     "status": "completed"
    },
    "tags": []
   },
   "outputs": [
    {
     "data": {
      "text/plain": [
       "(54, 6)"
      ]
     },
     "execution_count": 28,
     "metadata": {},
     "output_type": "execute_result"
    }
   ],
   "source": [
    "X_test.shape"
   ]
  },
  {
   "cell_type": "code",
   "execution_count": 29,
   "id": "2e66f91d",
   "metadata": {
    "execution": {
     "iopub.execute_input": "2021-12-02T23:17:48.210414Z",
     "iopub.status.busy": "2021-12-02T23:17:48.209563Z",
     "iopub.status.idle": "2021-12-02T23:17:48.220525Z",
     "shell.execute_reply": "2021-12-02T23:17:48.221469Z",
     "shell.execute_reply.started": "2021-12-02T23:14:33.965043Z"
    },
    "id": "g1DDFfMJnAum",
    "outputId": "a4dbf0fc-c0e0-4174-acb4-0f529bae31f6",
    "papermill": {
     "duration": 0.233627,
     "end_time": "2021-12-02T23:17:48.221655",
     "exception": false,
     "start_time": "2021-12-02T23:17:47.988028",
     "status": "completed"
    },
    "tags": []
   },
   "outputs": [
    {
     "data": {
      "text/plain": [
       "<tf.Tensor: shape=(54, 1), dtype=float32, numpy=\n",
       "array([[0.405965  ],\n",
       "       [1.        ],\n",
       "       [0.405965  ],\n",
       "       [0.405965  ],\n",
       "       [0.405965  ],\n",
       "       [1.        ],\n",
       "       [0.405965  ],\n",
       "       [0.405965  ],\n",
       "       [0.405965  ],\n",
       "       [0.405965  ],\n",
       "       [0.405965  ],\n",
       "       [1.        ],\n",
       "       [0.9880206 ],\n",
       "       [0.405965  ],\n",
       "       [0.405965  ],\n",
       "       [1.        ],\n",
       "       [0.9822286 ],\n",
       "       [1.        ],\n",
       "       [0.405965  ],\n",
       "       [0.405965  ],\n",
       "       [0.405965  ],\n",
       "       [1.        ],\n",
       "       [0.405965  ],\n",
       "       [0.405965  ],\n",
       "       [0.405965  ],\n",
       "       [1.        ],\n",
       "       [0.9131997 ],\n",
       "       [0.405965  ],\n",
       "       [1.        ],\n",
       "       [1.        ],\n",
       "       [0.9880846 ],\n",
       "       [1.        ],\n",
       "       [1.        ],\n",
       "       [0.99999964],\n",
       "       [1.        ],\n",
       "       [0.9885288 ],\n",
       "       [0.405965  ],\n",
       "       [0.405965  ],\n",
       "       [0.405965  ],\n",
       "       [0.405965  ],\n",
       "       [0.9982388 ],\n",
       "       [0.405965  ],\n",
       "       [0.405965  ],\n",
       "       [0.405965  ],\n",
       "       [0.405965  ],\n",
       "       [1.        ],\n",
       "       [0.91539246],\n",
       "       [0.405965  ],\n",
       "       [0.405965  ],\n",
       "       [0.9999994 ],\n",
       "       [0.405965  ],\n",
       "       [0.9992494 ],\n",
       "       [1.        ],\n",
       "       [1.        ]], dtype=float32)>"
      ]
     },
     "execution_count": 29,
     "metadata": {},
     "output_type": "execute_result"
    }
   ],
   "source": [
    "forecasts = network(X_test)\n",
    "forecasts"
   ]
  },
  {
   "cell_type": "code",
   "execution_count": 30,
   "id": "14ee22b2",
   "metadata": {
    "execution": {
     "iopub.execute_input": "2021-12-02T23:17:48.620569Z",
     "iopub.status.busy": "2021-12-02T23:17:48.619683Z",
     "iopub.status.idle": "2021-12-02T23:17:48.624224Z",
     "shell.execute_reply": "2021-12-02T23:17:48.623727Z",
     "shell.execute_reply.started": "2021-12-02T23:14:33.980462Z"
    },
    "id": "yUBH-U-BnO6O",
    "outputId": "329b1f3f-0868-4bdc-c6db-a35ceda8ea2a",
    "papermill": {
     "duration": 0.205723,
     "end_time": "2021-12-02T23:17:48.624342",
     "exception": false,
     "start_time": "2021-12-02T23:17:48.418619",
     "status": "completed"
    },
    "tags": []
   },
   "outputs": [
    {
     "data": {
      "text/plain": [
       "<tf.Tensor: shape=(54, 1), dtype=bool, numpy=\n",
       "array([[False],\n",
       "       [ True],\n",
       "       [False],\n",
       "       [False],\n",
       "       [False],\n",
       "       [ True],\n",
       "       [False],\n",
       "       [False],\n",
       "       [False],\n",
       "       [False],\n",
       "       [False],\n",
       "       [ True],\n",
       "       [ True],\n",
       "       [False],\n",
       "       [False],\n",
       "       [ True],\n",
       "       [ True],\n",
       "       [ True],\n",
       "       [False],\n",
       "       [False],\n",
       "       [False],\n",
       "       [ True],\n",
       "       [False],\n",
       "       [False],\n",
       "       [False],\n",
       "       [ True],\n",
       "       [ True],\n",
       "       [False],\n",
       "       [ True],\n",
       "       [ True],\n",
       "       [ True],\n",
       "       [ True],\n",
       "       [ True],\n",
       "       [ True],\n",
       "       [ True],\n",
       "       [ True],\n",
       "       [False],\n",
       "       [False],\n",
       "       [False],\n",
       "       [False],\n",
       "       [ True],\n",
       "       [False],\n",
       "       [False],\n",
       "       [False],\n",
       "       [False],\n",
       "       [ True],\n",
       "       [ True],\n",
       "       [False],\n",
       "       [False],\n",
       "       [ True],\n",
       "       [False],\n",
       "       [ True],\n",
       "       [ True],\n",
       "       [ True]])>"
      ]
     },
     "execution_count": 30,
     "metadata": {},
     "output_type": "execute_result"
    }
   ],
   "source": [
    "forecasts = forecasts > 0.5\n",
    "forecasts"
   ]
  },
  {
   "cell_type": "code",
   "execution_count": 31,
   "id": "a825fb9c",
   "metadata": {
    "execution": {
     "iopub.execute_input": "2021-12-02T23:17:48.864074Z",
     "iopub.status.busy": "2021-12-02T23:17:48.862832Z",
     "iopub.status.idle": "2021-12-02T23:17:48.866065Z",
     "shell.execute_reply": "2021-12-02T23:17:48.866470Z",
     "shell.execute_reply.started": "2021-12-02T23:14:33.990913Z"
    },
    "id": "yz9asSgynXAI",
    "outputId": "2e84669c-d845-449c-d0c4-b586e8812e13",
    "papermill": {
     "duration": 0.126145,
     "end_time": "2021-12-02T23:17:48.866597",
     "exception": false,
     "start_time": "2021-12-02T23:17:48.740452",
     "status": "completed"
    },
    "tags": []
   },
   "outputs": [
    {
     "data": {
      "text/plain": [
       "array([0, 1, 0, 0, 0, 1, 0, 0, 0, 0, 0, 1, 1, 0, 1, 1, 1, 1, 0, 0, 0, 1,\n",
       "       0, 0, 0, 1, 0, 0, 1, 1, 1, 1, 1, 1, 1, 1, 0, 0, 0, 0, 1, 1, 0, 0,\n",
       "       0, 1, 1, 0, 0, 1, 0, 1, 1, 1])"
      ]
     },
     "execution_count": 31,
     "metadata": {},
     "output_type": "execute_result"
    }
   ],
   "source": [
    "y_test"
   ]
  },
  {
   "cell_type": "code",
   "execution_count": 32,
   "id": "021da40b",
   "metadata": {
    "execution": {
     "iopub.execute_input": "2021-12-02T23:17:49.107914Z",
     "iopub.status.busy": "2021-12-02T23:17:49.106288Z",
     "iopub.status.idle": "2021-12-02T23:17:49.110652Z",
     "shell.execute_reply": "2021-12-02T23:17:49.111050Z",
     "shell.execute_reply.started": "2021-12-02T23:14:33.999572Z"
    },
    "id": "1yjsbs-ZnfYG",
    "outputId": "7269fbfd-e1c6-497e-b954-f99046d5a5ee",
    "papermill": {
     "duration": 0.125781,
     "end_time": "2021-12-02T23:17:49.111189",
     "exception": false,
     "start_time": "2021-12-02T23:17:48.985408",
     "status": "completed"
    },
    "tags": []
   },
   "outputs": [
    {
     "data": {
      "text/plain": [
       "0.9444444444444444"
      ]
     },
     "execution_count": 32,
     "metadata": {},
     "output_type": "execute_result"
    }
   ],
   "source": [
    "from sklearn.metrics import accuracy_score\n",
    "accuracy_score(y_test, forecasts)"
   ]
  },
  {
   "cell_type": "code",
   "execution_count": 33,
   "id": "ccab5113",
   "metadata": {
    "execution": {
     "iopub.execute_input": "2021-12-02T23:17:49.349068Z",
     "iopub.status.busy": "2021-12-02T23:17:49.348519Z",
     "iopub.status.idle": "2021-12-02T23:17:49.353589Z",
     "shell.execute_reply": "2021-12-02T23:17:49.353986Z",
     "shell.execute_reply.started": "2021-12-02T23:14:34.008693Z"
    },
    "id": "oG2iGC4vnxmj",
    "outputId": "a3fe8ac8-32e3-4f85-d3ec-4afb3aed5a13",
    "papermill": {
     "duration": 0.127143,
     "end_time": "2021-12-02T23:17:49.354124",
     "exception": false,
     "start_time": "2021-12-02T23:17:49.226981",
     "status": "completed"
    },
    "tags": []
   },
   "outputs": [
    {
     "data": {
      "text/plain": [
       "array([[27,  1],\n",
       "       [ 2, 24]])"
      ]
     },
     "execution_count": 33,
     "metadata": {},
     "output_type": "execute_result"
    }
   ],
   "source": [
    "from sklearn.metrics import confusion_matrix\n",
    "cm = confusion_matrix(y_test, forecasts)\n",
    "cm"
   ]
  },
  {
   "cell_type": "code",
   "execution_count": 34,
   "id": "fc229e60",
   "metadata": {
    "execution": {
     "iopub.execute_input": "2021-12-02T23:17:49.604146Z",
     "iopub.status.busy": "2021-12-02T23:17:49.603282Z",
     "iopub.status.idle": "2021-12-02T23:17:49.793145Z",
     "shell.execute_reply": "2021-12-02T23:17:49.792559Z",
     "shell.execute_reply.started": "2021-12-02T23:14:34.019449Z"
    },
    "id": "y0wzcEdjn-8b",
    "outputId": "a3970b2a-abb0-4066-8662-264a27fdbb2a",
    "papermill": {
     "duration": 0.322607,
     "end_time": "2021-12-02T23:17:49.793272",
     "exception": false,
     "start_time": "2021-12-02T23:17:49.470665",
     "status": "completed"
    },
    "tags": []
   },
   "outputs": [
    {
     "data": {
      "image/png": "[encoded data removed]",
      "text/plain": [
       "<Figure size 432x288 with 2 Axes>"
      ]
     },
     "metadata": {
      "needs_background": "light"
     },
     "output_type": "display_data"
    }
   ],
   "source": [
    "sns.heatmap(cm, annot=True);"
   ]
  },
  {
   "cell_type": "code",
   "execution_count": 35,
   "id": "1745b90d",
   "metadata": {
    "execution": {
     "iopub.execute_input": "2021-12-02T23:17:50.036320Z",
     "iopub.status.busy": "2021-12-02T23:17:50.035473Z",
     "iopub.status.idle": "2021-12-02T23:17:50.044068Z",
     "shell.execute_reply": "2021-12-02T23:17:50.043306Z",
     "shell.execute_reply.started": "2021-12-02T23:14:34.225936Z"
    },
    "id": "BwkxBPJVoN0a",
    "outputId": "23860ee9-a6c8-4917-c3c6-2d5e27810217",
    "papermill": {
     "duration": 0.131842,
     "end_time": "2021-12-02T23:17:50.044224",
     "exception": false,
     "start_time": "2021-12-02T23:17:49.912382",
     "status": "completed"
    },
    "tags": []
   },
   "outputs": [
    {
     "name": "stdout",
     "output_type": "stream",
     "text": [
      "              precision    recall  f1-score   support\n",
      "\n",
      "           0       0.93      0.96      0.95        28\n",
      "           1       0.96      0.92      0.94        26\n",
      "\n",
      "    accuracy                           0.94        54\n",
      "   macro avg       0.95      0.94      0.94        54\n",
      "weighted avg       0.94      0.94      0.94        54\n",
      "\n"
     ]
    }
   ],
   "source": [
    "from sklearn.metrics import classification_report\n",
    "print(classification_report(y_test, forecasts))"
   ]
  },
  {
   "cell_type": "markdown",
   "id": "8f29e0e4",
   "metadata": {
    "id": "reJZ0SCMeKBW",
    "papermill": {
     "duration": 0.116651,
     "end_time": "2021-12-02T23:17:50.278232",
     "exception": false,
     "start_time": "2021-12-02T23:17:50.161581",
     "status": "completed"
    },
    "tags": []
   },
   "source": [
    "## Upload and rate a single image"
   ]
  },
  {
   "cell_type": "code",
   "execution_count": 36,
   "id": "9f2641bc",
   "metadata": {
    "execution": {
     "iopub.execute_input": "2021-12-02T23:17:50.519023Z",
     "iopub.status.busy": "2021-12-02T23:17:50.517005Z",
     "iopub.status.idle": "2021-12-02T23:17:50.522294Z",
     "shell.execute_reply": "2021-12-02T23:17:50.522768Z",
     "shell.execute_reply.started": "2021-12-02T23:14:34.238398Z"
    },
    "id": "TODnnu8jowOI",
    "outputId": "467a57dd-89b4-4243-fd3e-c236575e60fb",
    "papermill": {
     "duration": 0.127891,
     "end_time": "2021-12-02T23:17:50.522936",
     "exception": false,
     "start_time": "2021-12-02T23:17:50.395045",
     "status": "completed"
    },
    "tags": []
   },
   "outputs": [
    {
     "name": "stdout",
     "output_type": "stream",
     "text": [
      "Model: \"sequential\"\n",
      "_________________________________________________________________\n",
      "Layer (type)                 Output Shape              Param #   \n",
      "=================================================================\n",
      "dense (Dense)                (None, 4)                 28        \n",
      "_________________________________________________________________\n",
      "dense_1 (Dense)              (None, 4)                 20        \n",
      "_________________________________________________________________\n",
      "dense_2 (Dense)              (None, 4)                 20        \n",
      "_________________________________________________________________\n",
      "dense_3 (Dense)              (None, 1)                 5         \n",
      "=================================================================\n",
      "Total params: 73\n",
      "Trainable params: 73\n",
      "Non-trainable params: 0\n",
      "_________________________________________________________________\n"
     ]
    }
   ],
   "source": [
    "network.summary()"
   ]
  },
  {
   "cell_type": "code",
   "execution_count": 37,
   "id": "e56dc872",
   "metadata": {
    "execution": {
     "iopub.execute_input": "2021-12-02T23:17:50.763501Z",
     "iopub.status.busy": "2021-12-02T23:17:50.762856Z",
     "iopub.status.idle": "2021-12-02T23:17:50.765610Z",
     "shell.execute_reply": "2021-12-02T23:17:50.766040Z",
     "shell.execute_reply.started": "2021-12-02T23:14:34.248636Z"
    },
    "id": "0DYXqrP3ox2c",
    "outputId": "c23cf199-0c71-42a5-cd7d-9b5df8927ee9",
    "papermill": {
     "duration": 0.125723,
     "end_time": "2021-12-02T23:17:50.766180",
     "exception": false,
     "start_time": "2021-12-02T23:17:50.640457",
     "status": "completed"
    },
    "tags": []
   },
   "outputs": [
    {
     "data": {
      "text/plain": [
       "array([3118, 7169,    0,    0,    0,    0])"
      ]
     },
     "execution_count": 37,
     "metadata": {},
     "output_type": "execute_result"
    }
   ],
   "source": [
    "image_test = X_test[1]\n",
    "image_test"
   ]
  },
  {
   "cell_type": "code",
   "execution_count": 38,
   "id": "d1656579",
   "metadata": {
    "execution": {
     "iopub.execute_input": "2021-12-02T23:17:51.009242Z",
     "iopub.status.busy": "2021-12-02T23:17:51.008306Z",
     "iopub.status.idle": "2021-12-02T23:17:51.011452Z",
     "shell.execute_reply": "2021-12-02T23:17:51.011925Z",
     "shell.execute_reply.started": "2021-12-02T23:14:34.256680Z"
    },
    "id": "kP7w4dQ-o2MW",
    "outputId": "eb94b750-4145-44c8-f7ff-c5a05c44fdd9",
    "papermill": {
     "duration": 0.126999,
     "end_time": "2021-12-02T23:17:51.012063",
     "exception": false,
     "start_time": "2021-12-02T23:17:50.885064",
     "status": "completed"
    },
    "tags": []
   },
   "outputs": [
    {
     "data": {
      "text/plain": [
       "(6,)"
      ]
     },
     "execution_count": 38,
     "metadata": {},
     "output_type": "execute_result"
    }
   ],
   "source": [
    "image_test.shape"
   ]
  },
  {
   "cell_type": "code",
   "execution_count": 39,
   "id": "41a62c01",
   "metadata": {
    "execution": {
     "iopub.execute_input": "2021-12-02T23:17:51.256868Z",
     "iopub.status.busy": "2021-12-02T23:17:51.256322Z",
     "iopub.status.idle": "2021-12-02T23:17:51.261689Z",
     "shell.execute_reply": "2021-12-02T23:17:51.261273Z",
     "shell.execute_reply.started": "2021-12-02T23:14:34.267003Z"
    },
    "id": "GhznN9USo4lH",
    "outputId": "0ac19aa4-d1df-418c-f1f7-d7f5f096726b",
    "papermill": {
     "duration": 0.129887,
     "end_time": "2021-12-02T23:17:51.261801",
     "exception": false,
     "start_time": "2021-12-02T23:17:51.131914",
     "status": "completed"
    },
    "tags": []
   },
   "outputs": [
    {
     "data": {
      "text/plain": [
       "(1, 6)"
      ]
     },
     "execution_count": 39,
     "metadata": {},
     "output_type": "execute_result"
    }
   ],
   "source": [
    "image_test = image_test.reshape(1,-1)\n",
    "image_test.shape"
   ]
  },
  {
   "cell_type": "code",
   "execution_count": 40,
   "id": "f1773ea4",
   "metadata": {
    "execution": {
     "iopub.execute_input": "2021-12-02T23:17:51.509670Z",
     "iopub.status.busy": "2021-12-02T23:17:51.508861Z",
     "iopub.status.idle": "2021-12-02T23:17:51.606922Z",
     "shell.execute_reply": "2021-12-02T23:17:51.607682Z",
     "shell.execute_reply.started": "2021-12-02T23:14:34.274970Z"
    },
    "id": "xqWC2dx-o-dq",
    "outputId": "7c0d9652-a89e-4279-d15d-bf44b8d76b84",
    "papermill": {
     "duration": 0.223854,
     "end_time": "2021-12-02T23:17:51.607855",
     "exception": false,
     "start_time": "2021-12-02T23:17:51.384001",
     "status": "completed"
    },
    "tags": []
   },
   "outputs": [
    {
     "data": {
      "text/plain": [
       "1.0"
      ]
     },
     "execution_count": 40,
     "metadata": {},
     "output_type": "execute_result"
    }
   ],
   "source": [
    "network.predict(image_test)[0][0]"
   ]
  },
  {
   "cell_type": "code",
   "execution_count": 41,
   "id": "dfe38315",
   "metadata": {
    "execution": {
     "iopub.execute_input": "2021-12-02T23:17:51.851046Z",
     "iopub.status.busy": "2021-12-02T23:17:51.850498Z",
     "iopub.status.idle": "2021-12-02T23:17:51.887975Z",
     "shell.execute_reply": "2021-12-02T23:17:51.887258Z",
     "shell.execute_reply.started": "2021-12-02T23:14:34.353424Z"
    },
    "id": "95oKLwFtpBry",
    "outputId": "3a04b88b-1999-4f83-97f7-bb39f9e44917",
    "papermill": {
     "duration": 0.161826,
     "end_time": "2021-12-02T23:17:51.888091",
     "exception": false,
     "start_time": "2021-12-02T23:17:51.726265",
     "status": "completed"
    },
    "tags": []
   },
   "outputs": [
    {
     "name": "stdout",
     "output_type": "stream",
     "text": [
      "Homer\n"
     ]
    }
   ],
   "source": [
    "if network.predict(image_test)[0][0] < 0.5:\n",
    "  print('Bart')\n",
    "else:\n",
    "  print('Homer')"
   ]
  },
  {
   "cell_type": "markdown",
   "id": "6d15df05",
   "metadata": {
    "papermill": {
     "duration": 0.119888,
     "end_time": "2021-12-02T23:17:52.129219",
     "exception": false,
     "start_time": "2021-12-02T23:17:52.009331",
     "status": "completed"
    },
    "tags": []
   },
   "source": [
    "**The case study with the extraction of features has a much better result than just with neural networks.**"
   ]
  },
  {
   "cell_type": "markdown",
   "id": "54e0e20d",
   "metadata": {
    "papermill": {
     "duration": 0.119494,
     "end_time": "2021-12-02T23:17:52.369514",
     "exception": false,
     "start_time": "2021-12-02T23:17:52.250020",
     "status": "completed"
    },
    "tags": []
   },
   "source": [
    "https://www.kaggle.com/juniorbueno/neural-networks-simpsons-image-classification"
   ]
  },
  {
   "cell_type": "markdown",
   "id": "fda93013",
   "metadata": {
    "papermill": {
     "duration": 0.118727,
     "end_time": "2021-12-02T23:17:52.607781",
     "exception": false,
     "start_time": "2021-12-02T23:17:52.489054",
     "status": "completed"
    },
    "tags": []
   },
   "source": [
    "# **If you find this notebook useful, support with an upvote** 👍¶"
   ]
  }
 ],
 "metadata": {
  "kernelspec": {
   "display_name": "Python 3",
   "language": "python",
   "name": "python3"
  },
  "language_info": {
   "codemirror_mode": {
    "name": "ipython",
    "version": 3
   },
   "file_extension": ".py",
   "mimetype": "text/x-python",
   "name": "python",
   "nbconvert_exporter": "python",
   "pygments_lexer": "ipython3",
   "version": "3.7.12"
  },
  "papermill": {
   "default_parameters": {},
   "duration": 160.553488,
   "end_time": "2021-12-02T23:17:56.009255",
   "environment_variables": {},
   "exception": null,
   "input_path": "__notebook__.ipynb",
   "output_path": "__notebook__.ipynb",
   "parameters": {},
   "start_time": "2021-12-02T23:15:15.455767",
   "version": "2.3.3"
  }
 },
 "nbformat": 4,
 "nbformat_minor": 5
}
